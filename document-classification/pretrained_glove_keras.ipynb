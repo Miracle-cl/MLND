{
 "cells": [
  {
   "cell_type": "code",
   "execution_count": 1,
   "metadata": {},
   "outputs": [
    {
     "name": "stderr",
     "output_type": "stream",
     "text": [
      "Using TensorFlow backend.\n"
     ]
    }
   ],
   "source": [
    "import tensorflow as tf\n",
    "import numpy as np\n",
    "import matplotlib.pyplot as plt\n",
    "import itertools\n",
    "import nltk\n",
    "import keras\n",
    "\n",
    "from sklearn.metrics import confusion_matrix\n",
    "from sklearn.datasets import fetch_20newsgroups\n",
    "from sklearn.model_selection import train_test_split\n",
    "from sklearn import preprocessing\n",
    "from collections import Counter\n",
    "from string import punctuation, digits\n",
    "from nltk.corpus import stopwords\n",
    "\n",
    "from keras.models import Model, Sequential\n",
    "from keras.layers import Dense, Embedding, Input\n",
    "from keras.layers import Conv1D, MaxPooling1D, Concatenate, Flatten, Dropout\n",
    "from keras.layers import BatchNormalization, Activation\n",
    "from keras.layers import LSTM, GRU, Bidirectional\n",
    "from keras.layers import GlobalAveragePooling1D\n",
    "from keras.preprocessing import sequence"
   ]
  },
  {
   "cell_type": "markdown",
   "metadata": {},
   "source": [
    "## 1. 数据预处理"
   ]
  },
  {
   "cell_type": "code",
   "execution_count": 2,
   "metadata": {},
   "outputs": [
    {
     "name": "stdout",
     "output_type": "stream",
     "text": [
      "<class 'list'>\n",
      "18846\n"
     ]
    }
   ],
   "source": [
    "# 读取全集\n",
    "newsgroups_all = fetch_20newsgroups(subset='all').data\n",
    "print(type(newsgroups_all))\n",
    "print(len(newsgroups_all))"
   ]
  },
  {
   "cell_type": "code",
   "execution_count": 3,
   "metadata": {
    "collapsed": true
   },
   "outputs": [],
   "source": [
    "from keras.preprocessing.text import Tokenizer\n",
    "from keras.preprocessing.sequence import pad_sequences\n",
    "\n",
    "MAX_NB_WORDS = 20000 # 保留最常见的20000个单词\n",
    "MAX_SEQUENCE_LENGTH = 1000 # 每篇文档限定1000词以内\n",
    "\n",
    "tokenizer = Tokenizer(num_words=MAX_NB_WORDS) # 分词器\n",
    "tokenizer.fit_on_texts(newsgroups_all)\n",
    "\n",
    "# 文本转化为数字序列\n",
    "sequences = tokenizer.texts_to_sequences(newsgroups_all)\n",
    "\n",
    "# 词汇表：单词-数字映射\n",
    "word_index = tokenizer.word_index # {'the': 1, 'to': 2, 'of': 3, 'a': 4, 'and': 5, ……}"
   ]
  },
  {
   "cell_type": "code",
   "execution_count": 4,
   "metadata": {},
   "outputs": [
    {
     "name": "stdout",
     "output_type": "stream",
     "text": [
      "[[14, 19415, 455, 559, 15, 29, 2552, 1240, 5609, 33, 322, 767, 2175, 2121, 871, 1343, 32, 251, 88, 77, 84, 12087, 455, 559, 15, 7, 122, 228, 63, 3, 2552, 1240, 20, 517, 3490, 50, 1, 1393, 3, 61, 437, 3, 1507, 50, 1, 1302, 2552, 3027, 3, 1, 2701, 309, 7, 122, 243, 16334, 175, 5, 4, 243, 19416, 268, 7, 122, 194, 2, 296, 37, 337, 2, 369, 4389, 22, 4, 243, 3, 7286, 12, 1, 2552, 349, 30, 20, 1502, 137, 2701, 1382, 90, 7, 397, 5987, 74, 2025, 13, 130, 56, 8, 140, 215, 90, 93, 1457, 770, 1963, 56, 8, 97, 4, 308, 9186, 1857, 2, 1306, 6, 1, 2327, 6760, 115, 348, 5987, 21, 4, 308, 3, 1857, 6, 1, 365, 658, 3, 467, 185, 1, 2552, 20, 194, 2, 1985, 1, 66, 3, 3215, 608, 7, 26, 132, 8755, 19, 2, 131, 1, 3280, 2000, 1, 1151, 1457, 770, 283, 2552, 1222], [14, 2333, 1832, 2803, 15, 1285, 129, 29, 67, 315, 847, 2812, 556, 344, 660, 3380, 4868, 12, 2812, 556, 344, 88, 77, 84, 2333, 1832, 2803, 15, 33, 560, 181, 591, 72, 3, 4839, 4815, 603, 219, 426, 5849, 3570, 2812, 32, 383, 38, 2459, 8, 6, 1, 1182, 12, 4, 315, 847, 556, 344, 9, 1572, 2922, 462, 740, 22, 25, 6820, 959, 101, 158, 21, 1493, 983, 16, 2486, 3570, 1142, 462, 740, 5849, 12915, 2636, 367, 3340, 1142, 61, 83, 315, 847, 2812, 344, 178, 322, 24, 360, 1164, 13, 1957, 1285, 129, 17377, 1832, 2803, 15, 125, 7, 7286, 5, 5, 1, 1168, 3, 1465, 123, 546, 56, 101, 8, 149, 5, 41, 93, 1059, 20, 74, 1168, 3, 8276, 129, 95]]\n"
     ]
    }
   ],
   "source": [
    "print(sequences[:2])"
   ]
  },
  {
   "cell_type": "code",
   "execution_count": 5,
   "metadata": {},
   "outputs": [
    {
     "data": {
      "text/plain": [
       "179209"
      ]
     },
     "execution_count": 5,
     "metadata": {},
     "output_type": "execute_result"
    }
   ],
   "source": [
    "len(word_index)"
   ]
  },
  {
   "cell_type": "code",
   "execution_count": 6,
   "metadata": {
    "collapsed": true
   },
   "outputs": [],
   "source": [
    "# 按照最大文本长度截断文本或补0\n",
    "features = pad_sequences(sequences, maxlen=MAX_SEQUENCE_LENGTH)"
   ]
  },
  {
   "cell_type": "code",
   "execution_count": 7,
   "metadata": {},
   "outputs": [
    {
     "name": "stdout",
     "output_type": "stream",
     "text": [
      "[[   0    0    0 ...,  283 2552 1222]\n",
      " [   0    0    0 ..., 8276  129   95]]\n"
     ]
    }
   ],
   "source": [
    "print(features[:2])"
   ]
  },
  {
   "cell_type": "code",
   "execution_count": 8,
   "metadata": {
    "collapsed": true
   },
   "outputs": [],
   "source": [
    "labels = fetch_20newsgroups(subset='all').target"
   ]
  },
  {
   "cell_type": "code",
   "execution_count": 9,
   "metadata": {},
   "outputs": [
    {
     "data": {
      "text/plain": [
       "array([10,  3, 17, ...,  3,  1,  7])"
      ]
     },
     "execution_count": 9,
     "metadata": {},
     "output_type": "execute_result"
    }
   ],
   "source": [
    "labels"
   ]
  },
  {
   "cell_type": "code",
   "execution_count": 10,
   "metadata": {},
   "outputs": [
    {
     "data": {
      "text/plain": [
       "array([[ 0.,  0.,  0.,  0.,  0.,  0.,  0.,  0.,  0.,  0.,  1.,  0.,  0.,\n",
       "         0.,  0.,  0.,  0.,  0.,  0.,  0.],\n",
       "       [ 0.,  0.,  0.,  1.,  0.,  0.,  0.,  0.,  0.,  0.,  0.,  0.,  0.,\n",
       "         0.,  0.,  0.,  0.,  0.,  0.,  0.]])"
      ]
     },
     "execution_count": 10,
     "metadata": {},
     "output_type": "execute_result"
    }
   ],
   "source": [
    "# 标签 独热编码\n",
    "from keras.utils import to_categorical\n",
    "labels = to_categorical(labels)\n",
    "labels[:2]"
   ]
  },
  {
   "cell_type": "code",
   "execution_count": 11,
   "metadata": {},
   "outputs": [
    {
     "name": "stdout",
     "output_type": "stream",
     "text": [
      "(18846, 1000)\n",
      "(18846, 20)\n"
     ]
    }
   ],
   "source": [
    "print(features.shape)\n",
    "print(labels.shape)"
   ]
  },
  {
   "cell_type": "code",
   "execution_count": 12,
   "metadata": {},
   "outputs": [
    {
     "name": "stdout",
     "output_type": "stream",
     "text": [
      "(9045, 1000) (2262, 1000) (7539, 1000)\n",
      "(9045, 20) (2262, 20) (7539, 20)\n"
     ]
    }
   ],
   "source": [
    "# 拆分训练集，验证集和测试集\n",
    "from sklearn.model_selection import train_test_split\n",
    "\n",
    "x_tv, x_test, y_tv, y_test = train_test_split(features, labels, test_size=0.4, shuffle=False) # 测试集占据0.4\n",
    "x_train, x_val, y_train, y_val = train_test_split(x_tv, y_tv, test_size=0.2, shuffle=False) # 验证集占据0.6数据集中的0.2 = 0.12\n",
    "\n",
    "print(x_train.shape, x_val.shape, x_test.shape)\n",
    "print(y_train.shape, y_val.shape, y_test.shape)"
   ]
  },
  {
   "cell_type": "code",
   "execution_count": 13,
   "metadata": {},
   "outputs": [
    {
     "name": "stdout",
     "output_type": "stream",
     "text": [
      "[ 375.  471.  457.  470.  459.  508.  466.  454.  509.  473.  479.  457.\n",
      "  508.  462.  473.  484.  433.  439.  363.  305.]\n",
      "[ 103.  111.  130.  114.  114.  108.  124.  116.  125.  121.  121.  128.\n",
      "  110.  118.  112.  110.  114.  113.   88.   82.]\n",
      "[ 321.  391.  398.  398.  390.  372.  385.  420.  362.  400.  399.  406.\n",
      "  366.  410.  402.  403.  363.  388.  324.  241.]\n"
     ]
    }
   ],
   "source": [
    "# 查看并统计训练集，验证集和测试集中个类别分布\n",
    "train_c = np.zeros(20, dtype=float)\n",
    "val_c = np.zeros(20, dtype=float)\n",
    "test_c = np.zeros(20, dtype=float)\n",
    "for x in y_train:\n",
    "    train_c += x\n",
    "\n",
    "for x in y_val:\n",
    "    val_c += x\n",
    "\n",
    "for x in y_test:\n",
    "    test_c += x\n",
    "\n",
    "print(train_c)\n",
    "print(val_c)\n",
    "print(test_c)"
   ]
  },
  {
   "cell_type": "markdown",
   "metadata": {},
   "source": [
    "## 2. 从GloVe文件中读取预训练的100维词向量"
   ]
  },
  {
   "cell_type": "code",
   "execution_count": 14,
   "metadata": {},
   "outputs": [
    {
     "name": "stdout",
     "output_type": "stream",
     "text": [
      "400000\n"
     ]
    }
   ],
   "source": [
    "# 从GloVe文件中解析出每个词和它所对应的词向量，并用字典的方式存储\n",
    "# 使用的词向量：100维\n",
    "embeddings_index = {}\n",
    "with open('glove.6B.100d.txt', 'r', encoding='utf-8') as txtfile:\n",
    "    lines = txtfile.readlines()\n",
    "    for line in lines:\n",
    "        values = line.split()\n",
    "        word = values[0]\n",
    "        coefs = np.asarray(values[1:], dtype='float32')\n",
    "        embeddings_index[word] = coefs\n",
    "\n",
    "print(len(embeddings_index))"
   ]
  },
  {
   "cell_type": "code",
   "execution_count": 15,
   "metadata": {},
   "outputs": [
    {
     "name": "stdout",
     "output_type": "stream",
     "text": [
      "[-0.038194   -0.24487001  0.72812003 -0.39961001  0.083172    0.043953\n",
      " -0.39140999  0.3344     -0.57545     0.087459    0.28786999 -0.06731\n",
      "  0.30906001 -0.26383999 -0.13231    -0.20757     0.33395001 -0.33848\n",
      " -0.31742999 -0.48335999  0.1464     -0.37303999  0.34577     0.052041\n",
      "  0.44946    -0.46970999  0.02628    -0.54154998 -0.15518001 -0.14106999\n",
      " -0.039722    0.28277001  0.14393     0.23464    -0.31020999  0.086173\n",
      "  0.20397     0.52623999  0.17163999 -0.082378   -0.71787    -0.41531\n",
      "  0.20334999 -0.12763     0.41367     0.55186999  0.57907999 -0.33476999\n",
      " -0.36559001 -0.54856998 -0.062892    0.26583999  0.30204999  0.99774998\n",
      " -0.80480999 -3.0243001   0.01254    -0.36941999  2.21670008  0.72201002\n",
      " -0.24978     0.92136002  0.034514    0.46744999  1.10790002 -0.19358\n",
      " -0.074575    0.23353    -0.052062   -0.22044     0.057162   -0.15806\n",
      " -0.30798    -0.41624999  0.37972     0.15006    -0.53211999 -0.20550001\n",
      " -1.25259995  0.071624    0.70564997  0.49744001 -0.42063001  0.26148\n",
      " -1.53799999 -0.30223    -0.073438   -0.28312001  0.37103999 -0.25217\n",
      "  0.016215   -0.017099   -0.38984001  0.87423998 -0.72569001 -0.51058\n",
      " -0.52028    -0.1459      0.82779998  0.27061999]\n"
     ]
    }
   ],
   "source": [
    "print(embeddings_index['the'])"
   ]
  },
  {
   "cell_type": "code",
   "execution_count": 16,
   "metadata": {
    "collapsed": true
   },
   "outputs": [],
   "source": [
    "# 构建词向量矩阵, 没有的单词的词向量均为0\n",
    "embedding_dim = 100\n",
    "embedding_matrix = np.zeros((len(word_index) + 1, embedding_dim))\n",
    "for word, idx in word_index.items():\n",
    "    embed_vector = embeddings_index.get(word)\n",
    "    if embed_vector is not None:\n",
    "        embedding_matrix[idx] = embed_vector"
   ]
  },
  {
   "cell_type": "code",
   "execution_count": 17,
   "metadata": {},
   "outputs": [
    {
     "data": {
      "text/plain": [
       "array([[ 0.        ,  0.        ,  0.        ,  0.        ,  0.        ],\n",
       "       [-0.038194  , -0.24487001,  0.72812003, -0.39961001,  0.083172  ],\n",
       "       [-0.18970001,  0.050024  ,  0.19084001, -0.049184  , -0.089737  ],\n",
       "       [-0.1529    , -0.24279   ,  0.89837003,  0.16996001,  0.53516001],\n",
       "       [-0.27085999,  0.044006  , -0.02026   , -0.17395   ,  0.6444    ]])"
      ]
     },
     "execution_count": 17,
     "metadata": {},
     "output_type": "execute_result"
    }
   ],
   "source": [
    "embedding_matrix[:5, :5]"
   ]
  },
  {
   "cell_type": "markdown",
   "metadata": {},
   "source": [
    "# Embedding_layer 可以被训练"
   ]
  },
  {
   "cell_type": "code",
   "execution_count": 18,
   "metadata": {
    "collapsed": true
   },
   "outputs": [],
   "source": [
    "# 词向量加载到embedding层中，trainable=False 使得这个编码层不可再训练\n",
    "embedding_layer = Embedding(len(word_index) + 1,\n",
    "                            embedding_dim,\n",
    "                            weights=[embedding_matrix],\n",
    "                            input_length=MAX_SEQUENCE_LENGTH,\n",
    "                            trainable=True)"
   ]
  },
  {
   "cell_type": "markdown",
   "metadata": {},
   "source": [
    "## 3. CNN + 可训练Embedding layer"
   ]
  },
  {
   "cell_type": "code",
   "execution_count": 19,
   "metadata": {},
   "outputs": [
    {
     "name": "stdout",
     "output_type": "stream",
     "text": [
      "_________________________________________________________________\n",
      "Layer (type)                 Output Shape              Param #   \n",
      "=================================================================\n",
      "input_1 (InputLayer)         (None, 1000)              0         \n",
      "_________________________________________________________________\n",
      "embedding_2 (Embedding)      (None, 1000, 100)         17921000  \n",
      "_________________________________________________________________\n",
      "conv1d_1 (Conv1D)            (None, 996, 128)          64128     \n",
      "_________________________________________________________________\n",
      "max_pooling1d_1 (MaxPooling1 (None, 199, 128)          0         \n",
      "_________________________________________________________________\n",
      "conv1d_2 (Conv1D)            (None, 195, 128)          82048     \n",
      "_________________________________________________________________\n",
      "max_pooling1d_2 (MaxPooling1 (None, 39, 128)           0         \n",
      "_________________________________________________________________\n",
      "conv1d_3 (Conv1D)            (None, 35, 128)           82048     \n",
      "_________________________________________________________________\n",
      "max_pooling1d_3 (MaxPooling1 (None, 1, 128)            0         \n",
      "_________________________________________________________________\n",
      "flatten_1 (Flatten)          (None, 128)               0         \n",
      "_________________________________________________________________\n",
      "dropout_1 (Dropout)          (None, 128)               0         \n",
      "_________________________________________________________________\n",
      "dense_1 (Dense)              (None, 128)               16512     \n",
      "_________________________________________________________________\n",
      "dense_2 (Dense)              (None, 20)                2580      \n",
      "=================================================================\n",
      "Total params: 18,168,316\n",
      "Trainable params: 18,168,316\n",
      "Non-trainable params: 0\n",
      "_________________________________________________________________\n",
      "None\n",
      "Train on 9045 samples, validate on 2262 samples\n",
      "Epoch 1/25\n",
      "9045/9045 [==============================] - 120s - loss: 2.8928 - acc: 0.0848 - val_loss: 2.5199 - val_acc: 0.1534\n",
      "Epoch 2/25\n",
      "9045/9045 [==============================] - 118s - loss: 2.3175 - acc: 0.1990 - val_loss: 1.8787 - val_acc: 0.3351\n",
      "Epoch 3/25\n",
      "9045/9045 [==============================] - 120s - loss: 1.7470 - acc: 0.3669 - val_loss: 1.3407 - val_acc: 0.5261\n",
      "Epoch 4/25\n",
      "9045/9045 [==============================] - 119s - loss: 1.2685 - acc: 0.5298 - val_loss: 1.0954 - val_acc: 0.6198\n",
      "Epoch 5/25\n",
      "9045/9045 [==============================] - 118s - loss: 0.9035 - acc: 0.6705 - val_loss: 0.8186 - val_acc: 0.7135\n",
      "Epoch 6/25\n",
      "9045/9045 [==============================] - 118s - loss: 0.6513 - acc: 0.7659 - val_loss: 0.7124 - val_acc: 0.7683\n",
      "Epoch 7/25\n",
      "9045/9045 [==============================] - 117s - loss: 0.4662 - acc: 0.8387 - val_loss: 0.6903 - val_acc: 0.7816\n",
      "Epoch 8/25\n",
      "9045/9045 [==============================] - 118s - loss: 0.3395 - acc: 0.8852 - val_loss: 0.7284 - val_acc: 0.7812\n",
      "Epoch 9/25\n",
      "9045/9045 [==============================] - 118s - loss: 0.2515 - acc: 0.9217 - val_loss: 0.7235 - val_acc: 0.8068\n",
      "Epoch 10/25\n",
      "9045/9045 [==============================] - 118s - loss: 0.1788 - acc: 0.9458 - val_loss: 0.7127 - val_acc: 0.8165\n",
      "Epoch 11/25\n",
      "9045/9045 [==============================] - 117s - loss: 0.1449 - acc: 0.9556 - val_loss: 0.7295 - val_acc: 0.8245\n",
      "Epoch 12/25\n",
      "9045/9045 [==============================] - 118s - loss: 0.1156 - acc: 0.9647 - val_loss: 0.7661 - val_acc: 0.8276\n",
      "Epoch 13/25\n",
      "9045/9045 [==============================] - 119s - loss: 0.0845 - acc: 0.9737 - val_loss: 0.7990 - val_acc: 0.8267\n",
      "Epoch 14/25\n",
      "9045/9045 [==============================] - 118s - loss: 0.0736 - acc: 0.9781 - val_loss: 0.8171 - val_acc: 0.8307\n",
      "Epoch 15/25\n",
      "9045/9045 [==============================] - 118s - loss: 0.0627 - acc: 0.9833 - val_loss: 0.8173 - val_acc: 0.8329\n",
      "Epoch 16/25\n",
      "9045/9045 [==============================] - 118s - loss: 0.0539 - acc: 0.9845 - val_loss: 0.8920 - val_acc: 0.8311\n",
      "Epoch 17/25\n",
      "9045/9045 [==============================] - 123s - loss: 0.0521 - acc: 0.9844 - val_loss: 0.9361 - val_acc: 0.8298\n",
      "Epoch 18/25\n",
      "9045/9045 [==============================] - 121s - loss: 0.0483 - acc: 0.9864 - val_loss: 0.9151 - val_acc: 0.8342\n",
      "Epoch 19/25\n",
      "9045/9045 [==============================] - 120s - loss: 0.0356 - acc: 0.9883 - val_loss: 0.9185 - val_acc: 0.8395\n",
      "Epoch 20/25\n",
      "9045/9045 [==============================] - 117s - loss: 0.0396 - acc: 0.9892 - val_loss: 0.9651 - val_acc: 0.8378\n",
      "Epoch 21/25\n",
      "9045/9045 [==============================] - 117s - loss: 0.0221 - acc: 0.9936 - val_loss: 0.9036 - val_acc: 0.8506\n",
      "Epoch 22/25\n",
      "9045/9045 [==============================] - 126s - loss: 0.0254 - acc: 0.9924 - val_loss: 0.9912 - val_acc: 0.8378\n",
      "Epoch 23/25\n",
      "9045/9045 [==============================] - 119s - loss: 0.0203 - acc: 0.9938 - val_loss: 0.9988 - val_acc: 0.8515\n",
      "Epoch 24/25\n",
      "9045/9045 [==============================] - 118s - loss: 0.0325 - acc: 0.9910 - val_loss: 1.0275 - val_acc: 0.8426\n",
      "Epoch 25/25\n",
      "9045/9045 [==============================] - 118s - loss: 0.0460 - acc: 0.9863 - val_loss: 0.8840 - val_acc: 0.8457\n"
     ]
    }
   ],
   "source": [
    "# 模型记录在logs文件中，使用tensorboard查看\n",
    "tb = [keras.callbacks.TensorBoard(log_dir='./logs')]\n",
    "\n",
    "# 输入\n",
    "main_input = Input(shape=(MAX_SEQUENCE_LENGTH,), dtype='float64')\n",
    "# 词嵌入, 使用已训练完成的词向量\n",
    "embedding_layer = Embedding(len(word_index) + 1, embedding_dim,\n",
    "                            weights=[embedding_matrix],\n",
    "                            input_length=MAX_SEQUENCE_LENGTH,\n",
    "                            trainable=True)\n",
    "embed = embedding_layer(main_input)\n",
    "# 使用3层卷积池化\n",
    "x = Conv1D(128, 5, activation='relu')(embed)\n",
    "x = MaxPooling1D(5)(x)\n",
    "x = Conv1D(128, 5, activation='relu')(x)\n",
    "x = MaxPooling1D(5)(x)\n",
    "x = Conv1D(128, 5, activation='relu')(x)\n",
    "x = MaxPooling1D(35)(x) # 可以使用 GlobalMaxPooling1D()(x) 防止计算错误\n",
    "x = Flatten()(x)\n",
    "x = Dropout(0.5)(x) # 丢弃50%\n",
    "x = Dense(128, activation='relu')(x)\n",
    "preds = Dense(20, activation='softmax')(x)\n",
    "model = Model(inputs=main_input, outputs=preds)\n",
    "model.compile(optimizer='adam', loss='categorical_crossentropy', metrics=['accuracy'])\n",
    "print(model.summary()) # 查看模型概况\n",
    "\n",
    "# history_cnn记录训练结果\n",
    "history_cnn = model.fit(x_train, y_train, batch_size=128, epochs=25, callbacks=tb, validation_data=(x_val, y_val))\n"
   ]
  },
  {
   "cell_type": "code",
   "execution_count": 20,
   "metadata": {},
   "outputs": [
    {
     "data": {
      "image/png": "[encoded data removed]",
      "text/plain": [
       "<matplotlib.figure.Figure at 0xc02a9e8>"
      ]
     },
     "metadata": {},
     "output_type": "display_data"
    }
   ],
   "source": [
    "# 绘制模型的训练和验证曲线\n",
    "%matplotlib inline\n",
    "plt.style.use('ggplot')\n",
    "\n",
    "plt.rcParams['font.sans-serif']=['SimHei'] #用来正常显示中文标签\n",
    "\n",
    "plt.plot(history_cnn.history['acc'])\n",
    "plt.plot(history_cnn.history['val_acc'])\n",
    "\n",
    "plt.legend(['训练曲线', '验证曲线'], loc='lower right', fontsize=16)\n",
    "\n",
    "plt.title('CNN模型正确率', fontsize=20)\n",
    "plt.xlabel('迭代次数', fontsize=18)\n",
    "plt.ylabel('正确率', fontsize=18)\n",
    "\n",
    "plt.xticks(range(0, 26, 5), fontsize=16)\n",
    "plt.yticks(fontsize=16)\n",
    "\n",
    "plt.show()"
   ]
  },
  {
   "cell_type": "code",
   "execution_count": 21,
   "metadata": {},
   "outputs": [
    {
     "name": "stdout",
     "output_type": "stream",
     "text": [
      "7539/7539 [==============================] - 24s    \n",
      "Test score: 0.941506979169\n",
      "Test accuracy: 0.830481496243\n"
     ]
    }
   ],
   "source": [
    "# 模型测试 评估\n",
    "score, acc = model.evaluate(x_test, y_test, batch_size=128)\n",
    "print('Test score:', score)\n",
    "print('Test accuracy:', acc)"
   ]
  },
  {
   "cell_type": "markdown",
   "metadata": {},
   "source": [
    "## 4. TextCNN + 可训练Embedding layer"
   ]
  },
  {
   "cell_type": "code",
   "execution_count": 22,
   "metadata": {},
   "outputs": [
    {
     "name": "stdout",
     "output_type": "stream",
     "text": [
      "____________________________________________________________________________________________________\n",
      "Layer (type)                     Output Shape          Param #     Connected to                     \n",
      "====================================================================================================\n",
      "input_2 (InputLayer)             (None, 1000)          0                                            \n",
      "____________________________________________________________________________________________________\n",
      "embedding_3 (Embedding)          (None, 1000, 100)     17921000    input_2[0][0]                    \n",
      "____________________________________________________________________________________________________\n",
      "conv1d_4 (Conv1D)                (None, 1000, 128)     38528       embedding_3[0][0]                \n",
      "____________________________________________________________________________________________________\n",
      "conv1d_5 (Conv1D)                (None, 1000, 128)     51328       embedding_3[0][0]                \n",
      "____________________________________________________________________________________________________\n",
      "conv1d_6 (Conv1D)                (None, 1000, 128)     64128       embedding_3[0][0]                \n",
      "____________________________________________________________________________________________________\n",
      "max_pooling1d_4 (MaxPooling1D)   (None, 250, 128)      0           conv1d_4[0][0]                   \n",
      "____________________________________________________________________________________________________\n",
      "max_pooling1d_5 (MaxPooling1D)   (None, 250, 128)      0           conv1d_5[0][0]                   \n",
      "____________________________________________________________________________________________________\n",
      "max_pooling1d_6 (MaxPooling1D)   (None, 250, 128)      0           conv1d_6[0][0]                   \n",
      "____________________________________________________________________________________________________\n",
      "concatenate_1 (Concatenate)      (None, 250, 384)      0           max_pooling1d_4[0][0]            \n",
      "                                                                   max_pooling1d_5[0][0]            \n",
      "                                                                   max_pooling1d_6[0][0]            \n",
      "____________________________________________________________________________________________________\n",
      "flatten_2 (Flatten)              (None, 96000)         0           concatenate_1[0][0]              \n",
      "____________________________________________________________________________________________________\n",
      "dropout_2 (Dropout)              (None, 96000)         0           flatten_2[0][0]                  \n",
      "____________________________________________________________________________________________________\n",
      "dense_3 (Dense)                  (None, 20)            1920020     dropout_2[0][0]                  \n",
      "====================================================================================================\n",
      "Total params: 19,995,004\n",
      "Trainable params: 19,995,004\n",
      "Non-trainable params: 0\n",
      "____________________________________________________________________________________________________\n",
      "None\n",
      "Train on 9045 samples, validate on 2262 samples\n",
      "Epoch 1/20\n",
      "9045/9045 [==============================] - 236s - loss: 4.8786 - acc: 0.1706 - val_loss: 3.7152 - val_acc: 0.3820\n",
      "Epoch 2/20\n",
      "9045/9045 [==============================] - 237s - loss: 3.2149 - acc: 0.5601 - val_loss: 3.1882 - val_acc: 0.5716\n",
      "Epoch 3/20\n",
      "9045/9045 [==============================] - 238s - loss: 2.6748 - acc: 0.7570 - val_loss: 3.0134 - val_acc: 0.6366\n",
      "Epoch 4/20\n",
      "9045/9045 [==============================] - 238s - loss: 2.4867 - acc: 0.8496 - val_loss: 2.9633 - val_acc: 0.6746\n",
      "Epoch 5/20\n",
      "9045/9045 [==============================] - 240s - loss: 2.3308 - acc: 0.9048 - val_loss: 2.8396 - val_acc: 0.6905\n",
      "Epoch 6/20\n",
      "9045/9045 [==============================] - 239s - loss: 2.2669 - acc: 0.9240 - val_loss: 2.9301 - val_acc: 0.7065\n",
      "Epoch 7/20\n",
      "9045/9045 [==============================] - 240s - loss: 2.1723 - acc: 0.9478 - val_loss: 2.7877 - val_acc: 0.7215\n",
      "Epoch 8/20\n",
      "9045/9045 [==============================] - 237s - loss: 2.1661 - acc: 0.9525 - val_loss: 2.8470 - val_acc: 0.7299\n",
      "Epoch 9/20\n",
      "9045/9045 [==============================] - 237s - loss: 2.1090 - acc: 0.9643 - val_loss: 2.7070 - val_acc: 0.7374\n",
      "Epoch 10/20\n",
      "9045/9045 [==============================] - 237s - loss: 2.0402 - acc: 0.9643 - val_loss: 2.7291 - val_acc: 0.7573\n",
      "Epoch 11/20\n",
      "9045/9045 [==============================] - 237s - loss: 1.9998 - acc: 0.9716 - val_loss: 2.6412 - val_acc: 0.7414\n",
      "Epoch 12/20\n",
      "9045/9045 [==============================] - 238s - loss: 1.9551 - acc: 0.9708 - val_loss: 2.7691 - val_acc: 0.7476\n",
      "Epoch 13/20\n",
      "9045/9045 [==============================] - 238s - loss: 1.9951 - acc: 0.9759 - val_loss: 2.5677 - val_acc: 0.7732\n",
      "Epoch 14/20\n",
      "9045/9045 [==============================] - 236s - loss: 2.0102 - acc: 0.9760 - val_loss: 2.5618 - val_acc: 0.7825\n",
      "Epoch 15/20\n",
      "9045/9045 [==============================] - 237s - loss: 1.8531 - acc: 0.9829 - val_loss: 2.6001 - val_acc: 0.7697\n",
      "Epoch 16/20\n",
      "9045/9045 [==============================] - 236s - loss: 1.9677 - acc: 0.9809 - val_loss: 2.5019 - val_acc: 0.7905\n",
      "Epoch 17/20\n",
      "9045/9045 [==============================] - 238s - loss: 1.8724 - acc: 0.9837 - val_loss: 2.4973 - val_acc: 0.7966\n",
      "Epoch 18/20\n",
      "9045/9045 [==============================] - 237s - loss: 1.8999 - acc: 0.9794 - val_loss: 2.4920 - val_acc: 0.7997\n",
      "Epoch 19/20\n",
      "9045/9045 [==============================] - 237s - loss: 1.8143 - acc: 0.9856 - val_loss: 2.4303 - val_acc: 0.8019\n",
      "Epoch 20/20\n",
      "9045/9045 [==============================] - 238s - loss: 1.7342 - acc: 0.9888 - val_loss: 2.3351 - val_acc: 0.8033\n"
     ]
    }
   ],
   "source": [
    "from keras import regularizers\n",
    "\n",
    "# 模型结构：词嵌入-卷积池化*3-拼接-全连接-dropout-全连接\n",
    "\n",
    "num_filters = 128 # 卷积核的数目\n",
    "\n",
    "main_input = Input(shape=(MAX_SEQUENCE_LENGTH,), dtype='float64')\n",
    "\n",
    "# 词嵌入, 使用已训练完成的词向量\n",
    "embedding_layer = Embedding(len(word_index) + 1, embedding_dim,\n",
    "                            weights=[embedding_matrix],\n",
    "                            input_length=MAX_SEQUENCE_LENGTH,\n",
    "                            trainable=True)\n",
    "embed = embedding_layer(main_input)\n",
    "\n",
    "# 词窗大小分别为3,4,5\n",
    "cnn1 = Conv1D(num_filters, 3, padding='same', strides = 1, activation='relu')(embed)\n",
    "cnn1 = MaxPooling1D(pool_size=4)(cnn1)\n",
    "cnn2 = Conv1D(num_filters, 4, padding='same', strides = 1, activation='relu')(embed)\n",
    "cnn2 = MaxPooling1D(pool_size=4)(cnn2)\n",
    "cnn3 = Conv1D(num_filters, 5, padding='same', strides = 1, activation='relu')(embed)\n",
    "cnn3 = MaxPooling1D(pool_size=4)(cnn3)\n",
    "\n",
    "# 合并三个模型的输出向量\n",
    "cnn = Concatenate(axis=-1)([cnn1,cnn2,cnn3])\n",
    "flat = Flatten()(cnn)\n",
    "drop = Dropout(0.5)(flat)\n",
    "main_output = Dense(20, activation='softmax', kernel_regularizer=regularizers.l2(0.01), activity_regularizer=regularizers.l1(0.01))(drop)\n",
    "model = Model(inputs = main_input, outputs = main_output)\n",
    "model.compile(optimizer='adam', loss='categorical_crossentropy', metrics=['accuracy'])\n",
    "print(model.summary())\n",
    "\n",
    "# earlystop = [keras.callbacks.EarlyStopping(monitor='val_loss', min_delta=0.01, patience=0, verbose=0, mode='auto')]\n",
    "history_textcnn = model.fit(x_train, y_train, batch_size=128, epochs=20, callbacks=tb, validation_data=(x_val, y_val))"
   ]
  },
  {
   "cell_type": "code",
   "execution_count": 23,
   "metadata": {},
   "outputs": [
    {
     "data": {
      "image/png": "[encoded data removed]",
      "text/plain": [
       "<matplotlib.figure.Figure at 0x135f88d0>"
      ]
     },
     "metadata": {},
     "output_type": "display_data"
    }
   ],
   "source": [
    "# 绘制训练和验证曲线\n",
    "plt.plot(history_textcnn.history['acc'])\n",
    "plt.plot(history_textcnn.history['val_acc'])\n",
    "\n",
    "plt.legend(['训练曲线', '验证曲线'], loc='lower right', fontsize=16)\n",
    "\n",
    "plt.title('TextCNN模型正确率', fontsize=20)\n",
    "plt.xlabel('迭代次数', fontsize=18)\n",
    "plt.ylabel('正确率', fontsize=18)\n",
    "\n",
    "plt.xticks(range(0, 21, 4), fontsize=16)\n",
    "plt.yticks(fontsize=16)\n",
    "\n",
    "plt.show()"
   ]
  },
  {
   "cell_type": "code",
   "execution_count": 24,
   "metadata": {},
   "outputs": [
    {
     "name": "stdout",
     "output_type": "stream",
     "text": [
      "7539/7539 [==============================] - 46s    \n",
      "Test score: 2.34538342175\n",
      "Test accuracy: 0.788433479123\n"
     ]
    }
   ],
   "source": [
    "# 模型测试 评估\n",
    "score, acc = model.evaluate(x_test, y_test, batch_size=128)\n",
    "print('Test score:', score)\n",
    "print('Test accuracy:', acc)"
   ]
  },
  {
   "cell_type": "markdown",
   "metadata": {},
   "source": [
    "## 5. TextRNN-LSTM + 可训练Embedding layer"
   ]
  },
  {
   "cell_type": "code",
   "execution_count": 37,
   "metadata": {},
   "outputs": [
    {
     "name": "stdout",
     "output_type": "stream",
     "text": [
      "_________________________________________________________________\n",
      "Layer (type)                 Output Shape              Param #   \n",
      "=================================================================\n",
      "embedding_8 (Embedding)      (None, 1000, 100)         17921000  \n",
      "_________________________________________________________________\n",
      "lstm_3 (LSTM)                (None, 100)               80400     \n",
      "_________________________________________________________________\n",
      "dense_9 (Dense)              (None, 20)                2020      \n",
      "=================================================================\n",
      "Total params: 18,003,420\n",
      "Trainable params: 18,003,420\n",
      "Non-trainable params: 0\n",
      "_________________________________________________________________\n",
      "None\n",
      "Train on 9045 samples, validate on 2262 samples\n",
      "Epoch 1/60\n",
      "9045/9045 [==============================] - 708s - loss: 4.4987 - acc: 0.0826 - val_loss: 4.3217 - val_acc: 0.1706\n",
      "Epoch 2/60\n",
      "9045/9045 [==============================] - 712s - loss: 4.2365 - acc: 0.1367 - val_loss: 3.9922 - val_acc: 0.1737\n",
      "Epoch 3/60\n",
      "9045/9045 [==============================] - 722s - loss: 4.0244 - acc: 0.1690 - val_loss: 3.7400 - val_acc: 0.2224\n",
      "Epoch 4/60\n",
      "9045/9045 [==============================] - 726s - loss: 3.8367 - acc: 0.2124 - val_loss: 3.5930 - val_acc: 0.2529\n",
      "Epoch 5/60\n",
      "9045/9045 [==============================] - 729s - loss: 3.7044 - acc: 0.2365 - val_loss: 3.5310 - val_acc: 0.2683\n",
      "Epoch 6/60\n",
      "9045/9045 [==============================] - 727s - loss: 3.5830 - acc: 0.2731 - val_loss: 3.3726 - val_acc: 0.3064\n",
      "Epoch 7/60\n",
      "9045/9045 [==============================] - 732s - loss: 3.4725 - acc: 0.3003 - val_loss: 3.2864 - val_acc: 0.3510\n",
      "Epoch 8/60\n",
      "9045/9045 [==============================] - 738s - loss: 3.3593 - acc: 0.3350 - val_loss: 3.1190 - val_acc: 0.4076\n",
      "Epoch 9/60\n",
      "9045/9045 [==============================] - 746s - loss: 3.2398 - acc: 0.3818 - val_loss: 3.0203 - val_acc: 0.4500\n",
      "Epoch 10/60\n",
      "9045/9045 [==============================] - 733s - loss: 3.1348 - acc: 0.4180 - val_loss: 2.9144 - val_acc: 0.4775\n",
      "Epoch 11/60\n",
      "9045/9045 [==============================] - 732s - loss: 3.0330 - acc: 0.4486 - val_loss: 2.8447 - val_acc: 0.4863\n",
      "Epoch 12/60\n",
      "9045/9045 [==============================] - 731s - loss: 2.9418 - acc: 0.4909 - val_loss: 2.7376 - val_acc: 0.5575\n",
      "Epoch 13/60\n",
      "9045/9045 [==============================] - 741s - loss: 2.8501 - acc: 0.5256 - val_loss: 2.6457 - val_acc: 0.5897\n",
      "Epoch 14/60\n",
      "9045/9045 [==============================] - 744s - loss: 2.7748 - acc: 0.5514 - val_loss: 2.5934 - val_acc: 0.6070\n",
      "Epoch 15/60\n",
      "9045/9045 [==============================] - 750s - loss: 2.6841 - acc: 0.5937 - val_loss: 2.5042 - val_acc: 0.6335\n",
      "Epoch 16/60\n",
      "9045/9045 [==============================] - 753s - loss: 2.6139 - acc: 0.6192 - val_loss: 2.4402 - val_acc: 0.6799\n",
      "Epoch 17/60\n",
      "9045/9045 [==============================] - 756s - loss: 2.5370 - acc: 0.6599 - val_loss: 2.3597 - val_acc: 0.7042\n",
      "Epoch 18/60\n",
      "9045/9045 [==============================] - 763s - loss: 2.4621 - acc: 0.6886 - val_loss: 2.3138 - val_acc: 0.7197\n",
      "Epoch 19/60\n",
      "9045/9045 [==============================] - 771s - loss: 2.3960 - acc: 0.7153 - val_loss: 2.2597 - val_acc: 0.7507\n",
      "Epoch 20/60\n",
      "9045/9045 [==============================] - 776s - loss: 2.3417 - acc: 0.7313 - val_loss: 2.2184 - val_acc: 0.7595\n",
      "Epoch 21/60\n",
      "9045/9045 [==============================] - 776s - loss: 2.2930 - acc: 0.7556 - val_loss: 2.1910 - val_acc: 0.7732\n",
      "Epoch 22/60\n",
      "9045/9045 [==============================] - 781s - loss: 2.2519 - acc: 0.7711 - val_loss: 2.1627 - val_acc: 0.7803\n",
      "Epoch 23/60\n",
      "9045/9045 [==============================] - 781s - loss: 2.2125 - acc: 0.7829 - val_loss: 2.1267 - val_acc: 0.7896\n",
      "Epoch 24/60\n",
      "9045/9045 [==============================] - 779s - loss: 2.1618 - acc: 0.8048 - val_loss: 2.1036 - val_acc: 0.8086\n",
      "Epoch 25/60\n",
      "9045/9045 [==============================] - 779s - loss: 2.1275 - acc: 0.8138 - val_loss: 2.0714 - val_acc: 0.8117\n",
      "Epoch 26/60\n",
      "9045/9045 [==============================] - 787s - loss: 2.1013 - acc: 0.8248 - val_loss: 2.0564 - val_acc: 0.8276\n",
      "Epoch 27/60\n",
      "9045/9045 [==============================] - 785s - loss: 2.0717 - acc: 0.8391 - val_loss: 2.0331 - val_acc: 0.8426\n",
      "Epoch 28/60\n",
      "9045/9045 [==============================] - 789s - loss: 2.0571 - acc: 0.8427 - val_loss: 2.0248 - val_acc: 0.8457\n",
      "Epoch 29/60\n",
      "9045/9045 [==============================] - 789s - loss: 2.0237 - acc: 0.8638 - val_loss: 1.9968 - val_acc: 0.8528\n",
      "Epoch 30/60\n",
      "9045/9045 [==============================] - 790s - loss: 1.9949 - acc: 0.8730 - val_loss: 1.9793 - val_acc: 0.8634\n",
      "Epoch 31/60\n",
      "9045/9045 [==============================] - 786s - loss: 1.9655 - acc: 0.8807 - val_loss: 1.9687 - val_acc: 0.8674\n",
      "Epoch 32/60\n",
      "9045/9045 [==============================] - 790s - loss: 1.9396 - acc: 0.8886 - val_loss: 1.9536 - val_acc: 0.8674\n",
      "Epoch 33/60\n",
      "9045/9045 [==============================] - 791s - loss: 1.9107 - acc: 0.9029 - val_loss: 1.9342 - val_acc: 0.8727\n",
      "Epoch 34/60\n",
      "9045/9045 [==============================] - 790s - loss: 1.8928 - acc: 0.9033 - val_loss: 1.9274 - val_acc: 0.8731\n",
      "Epoch 35/60\n",
      "9045/9045 [==============================] - 791s - loss: 1.8789 - acc: 0.9050 - val_loss: 1.9157 - val_acc: 0.8784\n",
      "Epoch 36/60\n",
      "9045/9045 [==============================] - 791s - loss: 1.8681 - acc: 0.9120 - val_loss: 1.9175 - val_acc: 0.8806\n",
      "Epoch 37/60\n",
      "9045/9045 [==============================] - 792s - loss: 1.8618 - acc: 0.9185 - val_loss: 1.9015 - val_acc: 0.8837\n",
      "Epoch 38/60\n",
      "9045/9045 [==============================] - 791s - loss: 1.8384 - acc: 0.9226 - val_loss: 1.8988 - val_acc: 0.8820\n",
      "Epoch 39/60\n",
      "9045/9045 [==============================] - 797s - loss: 1.8234 - acc: 0.9247 - val_loss: 1.8865 - val_acc: 0.8882\n",
      "Epoch 40/60\n",
      "9045/9045 [==============================] - 802s - loss: 1.8092 - acc: 0.9302 - val_loss: 1.8780 - val_acc: 0.8912\n",
      "Epoch 41/60\n",
      "9045/9045 [==============================] - 799s - loss: 1.8015 - acc: 0.9313 - val_loss: 1.8769 - val_acc: 0.8899\n",
      "Epoch 42/60\n",
      "9045/9045 [==============================] - 801s - loss: 1.7837 - acc: 0.9382 - val_loss: 1.8671 - val_acc: 0.8952\n",
      "Epoch 43/60\n",
      "9045/9045 [==============================] - 804s - loss: 1.8264 - acc: 0.9270 - val_loss: 1.8737 - val_acc: 0.8966\n",
      "Epoch 44/60\n",
      "9045/9045 [==============================] - 799s - loss: 1.8080 - acc: 0.9345 - val_loss: 1.8688 - val_acc: 0.8935\n",
      "Epoch 45/60\n",
      "9045/9045 [==============================] - 803s - loss: 1.7801 - acc: 0.9444 - val_loss: 1.8618 - val_acc: 0.8952\n",
      "Epoch 46/60\n",
      "9045/9045 [==============================] - 798s - loss: 1.7686 - acc: 0.9428 - val_loss: 1.8599 - val_acc: 0.8979\n",
      "Epoch 47/60\n",
      "9045/9045 [==============================] - 800s - loss: 1.7694 - acc: 0.9433 - val_loss: 1.8582 - val_acc: 0.8979\n",
      "Epoch 48/60\n",
      "9045/9045 [==============================] - 808s - loss: 1.7592 - acc: 0.9468 - val_loss: 1.8517 - val_acc: 0.8992\n",
      "Epoch 49/60\n",
      "9045/9045 [==============================] - 803s - loss: 1.7430 - acc: 0.9501 - val_loss: 1.8489 - val_acc: 0.8988\n",
      "Epoch 50/60\n",
      "9045/9045 [==============================] - 806s - loss: 1.7389 - acc: 0.9523 - val_loss: 1.8455 - val_acc: 0.9019\n",
      "Epoch 51/60\n",
      "9045/9045 [==============================] - 807s - loss: 1.7334 - acc: 0.9510 - val_loss: 1.8435 - val_acc: 0.9005\n",
      "Epoch 52/60\n",
      "9045/9045 [==============================] - 802s - loss: 1.7267 - acc: 0.9560 - val_loss: 1.8396 - val_acc: 0.9027\n",
      "Epoch 53/60\n",
      "9045/9045 [==============================] - 803s - loss: 1.7143 - acc: 0.9559 - val_loss: 1.8433 - val_acc: 0.9032\n",
      "Epoch 54/60\n",
      "9045/9045 [==============================] - 803s - loss: 1.7147 - acc: 0.9561 - val_loss: 1.8340 - val_acc: 0.9072\n",
      "Epoch 55/60\n",
      "9045/9045 [==============================] - 801s - loss: 1.7036 - acc: 0.9596 - val_loss: 1.8367 - val_acc: 0.9050\n",
      "Epoch 56/60\n",
      "9045/9045 [==============================] - 803s - loss: 1.7006 - acc: 0.9606 - val_loss: 1.8328 - val_acc: 0.9036\n",
      "Epoch 57/60\n",
      "9045/9045 [==============================] - 805s - loss: 1.7051 - acc: 0.9593 - val_loss: 1.8301 - val_acc: 0.9085\n",
      "Epoch 58/60\n",
      "9045/9045 [==============================] - 806s - loss: 1.6964 - acc: 0.9623 - val_loss: 1.8279 - val_acc: 0.9085\n",
      "Epoch 59/60\n",
      "9045/9045 [==============================] - 801s - loss: 1.6879 - acc: 0.9632 - val_loss: 1.8343 - val_acc: 0.9054\n",
      "Epoch 60/60\n",
      "9045/9045 [==============================] - 803s - loss: 1.6791 - acc: 0.9667 - val_loss: 1.8279 - val_acc: 0.9107\n"
     ]
    }
   ],
   "source": [
    "# 模型结构：词嵌入-LSTM-全连接\n",
    "model = Sequential()\n",
    "model.add(Embedding(len(word_index) + 1,  embedding_dim, weights=[embedding_matrix], \n",
    "                    input_length=MAX_SEQUENCE_LENGTH, trainable=True))\n",
    "model.add(LSTM(100, dropout=0.5, recurrent_dropout=0.5))\n",
    "# 在全连接层上对权重实施L2正则化，对输出实施L1正则化\n",
    "model.add(Dense(20, activation='softmax', kernel_regularizer=regularizers.l2(0.01), \n",
    "                activity_regularizer=regularizers.l1(0.01)))\n",
    "\n",
    "model.compile(optimizer='adam', loss='categorical_crossentropy', metrics=['accuracy'])\n",
    "print(model.summary())\n",
    "\n",
    "# earlystop = [keras.callbacks.EarlyStopping(monitor='val_loss', min_delta=0.01, patience=0, verbose=0, mode='auto')]\n",
    "history_rnn = model.fit(x_train, y_train, batch_size=128, epochs=60, callbacks=tb, validation_data=(x_val, y_val))"
   ]
  },
  {
   "cell_type": "code",
   "execution_count": 38,
   "metadata": {},
   "outputs": [
    {
     "data": {
      "image/png": "[encoded data removed]",
      "text/plain": [
       "<matplotlib.figure.Figure at 0x717377b8>"
      ]
     },
     "metadata": {},
     "output_type": "display_data"
    }
   ],
   "source": [
    "# 绘制训练和验证曲线\n",
    "plt.plot(history_rnn.history['acc'])\n",
    "plt.plot(history_rnn.history['val_acc'])\n",
    "\n",
    "plt.legend(['训练曲线', '验证曲线'], loc='lower right', fontsize=16)\n",
    "\n",
    "plt.title('TextRNN-LSTM模型正确率', fontsize=20)\n",
    "plt.xlabel('迭代次数', fontsize=18)\n",
    "plt.ylabel('正确率', fontsize=18)\n",
    "\n",
    "plt.xticks(range(0, 61, 5), fontsize=16)\n",
    "plt.yticks(fontsize=16)\n",
    "\n",
    "plt.show()"
   ]
  },
  {
   "cell_type": "code",
   "execution_count": 39,
   "metadata": {},
   "outputs": [
    {
     "name": "stdout",
     "output_type": "stream",
     "text": [
      "7539/7539 [==============================] - 86s    \n",
      "Test score: 1.90476458956\n",
      "Test accuracy: 0.885793872032\n"
     ]
    }
   ],
   "source": [
    "# 模型测试 评估\n",
    "score, acc = model.evaluate(x_test, y_test, batch_size=128)\n",
    "print('Test score:', score)\n",
    "print('Test accuracy:', acc)"
   ]
  },
  {
   "cell_type": "markdown",
   "metadata": {},
   "source": [
    "## 6. RCNN + 可训练Embedding layer"
   ]
  },
  {
   "cell_type": "code",
   "execution_count": 40,
   "metadata": {
    "collapsed": true
   },
   "outputs": [],
   "source": [
    "import nltk\n",
    "import os\n",
    "import re\n",
    "from sklearn.datasets import fetch_20newsgroups\n",
    "\n",
    "from keras.preprocessing.text import Tokenizer\n",
    "from keras.preprocessing.sequence import pad_sequences\n",
    "\n",
    "# nltk.download('punkt')"
   ]
  },
  {
   "cell_type": "code",
   "execution_count": 41,
   "metadata": {},
   "outputs": [
    {
     "data": {
      "text/plain": [
       "179209"
      ]
     },
     "execution_count": 41,
     "metadata": {},
     "output_type": "execute_result"
    }
   ],
   "source": [
    "# 读取全集\n",
    "newsgroups_all = fetch_20newsgroups(subset='all')\n",
    "\n",
    "# 分词器\n",
    "tokenizer = Tokenizer(num_words=20000) # 保留词频最高的20000个单词\n",
    "tokenizer.fit_on_texts(newsgroups_all.data)\n",
    "\n",
    "word_idx = tokenizer.word_index\n",
    "len(word_idx)"
   ]
  },
  {
   "cell_type": "code",
   "execution_count": 42,
   "metadata": {
    "collapsed": true
   },
   "outputs": [],
   "source": [
    "# 使用word_idx中的映射关系来表示文本 - 训练集和测试集\n",
    "\n",
    "train_texts = tokenizer.texts_to_sequences( fetch_20newsgroups(subset='train').data )\n",
    "test_texts = tokenizer.texts_to_sequences( fetch_20newsgroups(subset='test').data )"
   ]
  },
  {
   "cell_type": "code",
   "execution_count": 43,
   "metadata": {},
   "outputs": [
    {
     "name": "stdout",
     "output_type": "stream",
     "text": [
      "11314 7532\n",
      "[[14, 3133, 1196, 15, 9554, 38, 250, 29, 40, 298, 8, 17, 88, 77, 84, 3133, 1196, 15, 33, 72, 3, 2989, 553, 1725, 32, 225, 7, 26, 1213, 27, 158, 66, 44, 116, 10300, 62, 16, 17, 298, 7, 704, 1, 83, 260, 11, 26, 4, 36, 1257, 2417, 298, 1165, 2, 18, 14, 1, 1347, 17959, 861, 15843, 11, 26, 333, 4, 19270, 1, 4042, 76, 176, 487, 6, 1435, 1, 788, 9276, 26, 1880, 14, 1, 784, 3, 1, 675, 17, 8, 41, 7, 81, 27, 158, 39, 4, 811, 295, 1051, 3252, 207, 3, 2927, 154, 17, 298, 8, 233, 562, 24, 783, 375, 13, 21, 16, 17, 363, 298, 178, 109, 188, 209, 1397, 1380, 2, 13, 35, 57, 7220], [14, 14144, 3245, 126, 461, 15, 753, 7088, 29, 2347, 1333, 6092, 1151, 346, 660, 1151, 346, 12, 2347, 1333, 1310, 426, 2347, 5602, 1333, 1939, 58, 7, 121, 5852, 33, 72, 3, 461, 32, 269, 88, 77, 84, 3245, 126, 461, 15, 4, 1715, 226, 3, 8231, 6440, 64, 6341, 78, 2347, 1333, 7616, 21, 2870, 78, 2960, 12, 17, 6092, 178, 389, 4, 4501, 342, 12425, 57, 2960, 22, 1, 3648, 629, 492, 1210, 5587, 492, 810, 16, 1069, 5, 10391, 1812, 19970, 2394, 3, 3085, 653, 260, 1359, 479, 5838, 22, 1143, 5, 25, 71, 59, 5321, 20, 666, 5048, 7, 43, 18, 6, 1, 365, 136, 509, 54, 178, 810, 2, 1, 591, 1017, 1081, 27, 13, 21, 371, 1, 1333, 1939, 5, 759, 3223, 17, 6092, 209, 753, 7088, 14144, 126, 461, 15]]\n"
     ]
    }
   ],
   "source": [
    "print(len(train_texts), len(test_texts))\n",
    "print(train_texts[:2])"
   ]
  },
  {
   "cell_type": "code",
   "execution_count": 44,
   "metadata": {},
   "outputs": [
    {
     "name": "stdout",
     "output_type": "stream",
     "text": [
      "19999\n",
      "19999\n"
     ]
    }
   ],
   "source": [
    "print( np.max([np.max(doc) for doc in train_texts]) )\n",
    "print( np.max([np.max(doc) for doc in test_texts]) )"
   ]
  },
  {
   "cell_type": "code",
   "execution_count": 45,
   "metadata": {
    "collapsed": true
   },
   "outputs": [],
   "source": [
    "# 模型结构：词嵌入*3-LSTM*2-拼接-全连接-最大化池化-全连接\n",
    "# 重新整理数据集\n",
    "left_train_texts = [[20000] + x[:-1] for x in train_texts] # 保留20000个单词\n",
    "right_train_texts = [x[1:] + [20000] for x in train_texts] # 保留20000个单词\n",
    "\n",
    "left_test_texts = [[20000] + x[:-1] for x in test_texts] # 保留20000个单词\n",
    "right_test_texts = [x[1:] + [20000] for x in test_texts] # 保留20000个单词"
   ]
  },
  {
   "cell_type": "code",
   "execution_count": 46,
   "metadata": {
    "collapsed": true
   },
   "outputs": [],
   "source": [
    "MAX_SEQUENCE_LENGTH = 200 # 每篇文档限定200词以内\n",
    "\n",
    "left_train = pad_sequences(left_train_texts, maxlen=MAX_SEQUENCE_LENGTH)\n",
    "mid_train = pad_sequences(train_texts, maxlen=MAX_SEQUENCE_LENGTH)\n",
    "right_train = pad_sequences(right_train_texts, maxlen=MAX_SEQUENCE_LENGTH)\n",
    "\n",
    "left_test = pad_sequences(left_test_texts, maxlen=MAX_SEQUENCE_LENGTH)\n",
    "mid_test = pad_sequences(test_texts, maxlen=MAX_SEQUENCE_LENGTH)\n",
    "right_test = pad_sequences(right_test_texts, maxlen=MAX_SEQUENCE_LENGTH)"
   ]
  },
  {
   "cell_type": "code",
   "execution_count": 47,
   "metadata": {},
   "outputs": [
    {
     "name": "stdout",
     "output_type": "stream",
     "text": [
      "(11314, 200) (11314, 200) (11314, 200)\n",
      "(7532, 200) (7532, 200) (7532, 200)\n"
     ]
    }
   ],
   "source": [
    "print(left_train.shape, mid_train.shape, right_train.shape)\n",
    "print(left_test.shape, mid_test.shape, right_test.shape)"
   ]
  },
  {
   "cell_type": "code",
   "execution_count": 48,
   "metadata": {
    "collapsed": true
   },
   "outputs": [],
   "source": [
    "y_train = to_categorical(fetch_20newsgroups(subset='train').target).astype(int)\n",
    "y_test = to_categorical(fetch_20newsgroups(subset='test').target).astype(int)"
   ]
  },
  {
   "cell_type": "code",
   "execution_count": 49,
   "metadata": {},
   "outputs": [
    {
     "name": "stdout",
     "output_type": "stream",
     "text": [
      "____________________________________________________________________________________________________\n",
      "Layer (type)                     Output Shape          Param #     Connected to                     \n",
      "====================================================================================================\n",
      "input_5 (InputLayer)             (None, None)          0                                            \n",
      "____________________________________________________________________________________________________\n",
      "input_7 (InputLayer)             (None, None)          0                                            \n",
      "____________________________________________________________________________________________________\n",
      "embedding_9 (Embedding)          (None, 200, 100)      17921000    input_5[0][0]                    \n",
      "                                                                   input_5[0][0]                    \n",
      "                                                                   input_7[0][0]                    \n",
      "____________________________________________________________________________________________________\n",
      "lstm_4 (LSTM)                    (None, 200, 100)      80400       embedding_9[0][0]                \n",
      "____________________________________________________________________________________________________\n",
      "lstm_5 (LSTM)                    (None, 200, 100)      80400       embedding_9[2][0]                \n",
      "____________________________________________________________________________________________________\n",
      "concatenate_3 (Concatenate)      (None, 200, 300)      0           lstm_4[0][0]                     \n",
      "                                                                   embedding_9[1][0]                \n",
      "                                                                   lstm_5[0][0]                     \n",
      "____________________________________________________________________________________________________\n",
      "time_distributed_1 (TimeDistribu (None, 200, 128)      38528       concatenate_3[0][0]              \n",
      "____________________________________________________________________________________________________\n",
      "lambda_1 (Lambda)                (None, 128)           0           time_distributed_1[0][0]         \n",
      "____________________________________________________________________________________________________\n",
      "dense_11 (Dense)                 (None, 20)            2580        lambda_1[0][0]                   \n",
      "====================================================================================================\n",
      "Total params: 18,122,908\n",
      "Trainable params: 18,122,908\n",
      "Non-trainable params: 0\n",
      "____________________________________________________________________________________________________\n",
      "None\n"
     ]
    }
   ],
   "source": [
    "# 模型结构：词嵌入*3-LSTM*2-拼接-全连接-最大化池化-全连接\n",
    "from keras.models import Model\n",
    "from keras.layers import Input, Embedding, LSTM, concatenate, TimeDistributed, Lambda, Dense\n",
    "from keras import backend as K\n",
    "\n",
    "# 模型共有三个输入，分别是左词，中心词和右词\n",
    "left_context = Input(shape = (None, ), dtype = \"int32\")\n",
    "mid_context = Input(shape = (None, ), dtype = \"int32\")\n",
    "right_context = Input(shape = (None, ), dtype = \"int32\")\n",
    "\n",
    "# 构建词向量\n",
    "embedding_dim = 100\n",
    "# embedder = Embedding(20002, embedding_dim, input_length=MAX_SEQUENCE_LENGTH) # 20002=20001+1, MAX_SEQUENCE_LENGTH=200\n",
    "# 词嵌入, 使用已训练完成的词向量\n",
    "embedder = Embedding(len(word_idx) + 1, embedding_dim,\n",
    "                     weights=[embedding_matrix],\n",
    "                     input_length=MAX_SEQUENCE_LENGTH,\n",
    "                     trainable=True)\n",
    "left_embed = embedder(left_context)\n",
    "mid_embed = embedder(left_context)\n",
    "right_embed = embedder(right_context)\n",
    "\n",
    "# 左侧的文本向量-正向循环\n",
    "forward = LSTM(100, return_sequences=True)(left_embed)\n",
    "# 右侧的文本向量-反向循环\n",
    "backward = LSTM(100, return_sequences=True, go_backwards = True)(right_embed)\n",
    "# 拼接3层向量\n",
    "together = concatenate([forward, mid_embed, backward], axis = 2)\n",
    "\n",
    "# 潜语意向量 latent semantic vector\n",
    "semantic = TimeDistributed(Dense(128, activation = \"tanh\"))(together)\n",
    "\n",
    "# 自定义池化层\n",
    "pool_rnn = Lambda(lambda x: K.max(x, axis=1), output_shape=(128, ))(semantic)\n",
    "\n",
    "#输出层\n",
    "output = Dense(20, activation=\"softmax\")(pool_rnn)\n",
    "\n",
    "model = Model(inputs=[left_context, mid_context, right_context], outputs=output)\n",
    "model.compile(optimizer='adam', loss='categorical_crossentropy', metrics=['acc'])\n",
    "print(model.summary())"
   ]
  },
  {
   "cell_type": "code",
   "execution_count": 50,
   "metadata": {},
   "outputs": [
    {
     "name": "stdout",
     "output_type": "stream",
     "text": [
      "Train on 9051 samples, validate on 2263 samples\n",
      "Epoch 1/20\n",
      "9051/9051 [==============================] - 204s - loss: 2.5860 - acc: 0.2414 - val_loss: 1.9977 - val_acc: 0.4852\n",
      "Epoch 2/20\n",
      "9051/9051 [==============================] - 190s - loss: 1.6049 - acc: 0.5783 - val_loss: 1.2518 - val_acc: 0.6695\n",
      "Epoch 3/20\n",
      "9051/9051 [==============================] - 189s - loss: 0.9584 - acc: 0.7536 - val_loss: 0.9559 - val_acc: 0.7278\n",
      "Epoch 4/20\n",
      "9051/9051 [==============================] - 190s - loss: 0.6808 - acc: 0.8217 - val_loss: 0.7656 - val_acc: 0.7848\n",
      "Epoch 5/20\n",
      "9051/9051 [==============================] - 190s - loss: 0.4888 - acc: 0.8752 - val_loss: 0.7004 - val_acc: 0.7941\n",
      "Epoch 6/20\n",
      "9051/9051 [==============================] - 190s - loss: 0.3566 - acc: 0.9112 - val_loss: 0.6234 - val_acc: 0.8020\n",
      "Epoch 7/20\n",
      "9051/9051 [==============================] - 191s - loss: 0.2625 - acc: 0.9420 - val_loss: 0.5803 - val_acc: 0.8175\n",
      "Epoch 8/20\n",
      "9051/9051 [==============================] - 191s - loss: 0.1824 - acc: 0.9671 - val_loss: 0.5509 - val_acc: 0.8272\n",
      "Epoch 9/20\n",
      "9051/9051 [==============================] - 190s - loss: 0.1298 - acc: 0.9811 - val_loss: 0.5302 - val_acc: 0.8422\n",
      "Epoch 10/20\n",
      "9051/9051 [==============================] - 194s - loss: 0.0871 - acc: 0.9906 - val_loss: 0.5281 - val_acc: 0.8392\n",
      "Epoch 11/20\n",
      "9051/9051 [==============================] - 202s - loss: 0.0601 - acc: 0.9960 - val_loss: 0.5185 - val_acc: 0.8480\n",
      "Epoch 12/20\n",
      "9051/9051 [==============================] - 201s - loss: 0.0425 - acc: 0.9979 - val_loss: 0.5097 - val_acc: 0.8502\n",
      "Epoch 13/20\n",
      "9051/9051 [==============================] - 192s - loss: 0.0311 - acc: 0.9992 - val_loss: 0.5198 - val_acc: 0.8480\n",
      "Epoch 14/20\n",
      "9051/9051 [==============================] - 191s - loss: 0.0234 - acc: 0.9994 - val_loss: 0.5334 - val_acc: 0.8427\n",
      "Epoch 15/20\n",
      "9051/9051 [==============================] - 192s - loss: 0.0180 - acc: 0.9992 - val_loss: 0.5301 - val_acc: 0.8440\n",
      "Epoch 16/20\n",
      "9051/9051 [==============================] - 191s - loss: 0.0152 - acc: 0.9991 - val_loss: 0.5336 - val_acc: 0.8427\n",
      "Epoch 17/20\n",
      "9051/9051 [==============================] - 191s - loss: 0.0116 - acc: 0.9994 - val_loss: 0.5464 - val_acc: 0.8445\n",
      "Epoch 18/20\n",
      "9051/9051 [==============================] - 191s - loss: 0.0096 - acc: 0.9996 - val_loss: 0.5583 - val_acc: 0.8427\n",
      "Epoch 19/20\n",
      "9051/9051 [==============================] - 191s - loss: 0.0083 - acc: 0.9991 - val_loss: 0.5459 - val_acc: 0.8467\n",
      "Epoch 20/20\n",
      "9051/9051 [==============================] - 191s - loss: 0.0072 - acc: 0.9996 - val_loss: 0.5904 - val_acc: 0.8422\n"
     ]
    }
   ],
   "source": [
    "history_rcnn = model.fit([left_train, mid_train, right_train], y_train,\n",
    "                         batch_size=128, epochs=20, validation_split=0.2, shuffle=True)"
   ]
  },
  {
   "cell_type": "code",
   "execution_count": 51,
   "metadata": {},
   "outputs": [
    {
     "data": {
      "image/png": "[encoded data removed]",
      "text/plain": [
       "<matplotlib.figure.Figure at 0xcf16c4e0>"
      ]
     },
     "metadata": {},
     "output_type": "display_data"
    }
   ],
   "source": [
    "# 绘制模型的训练和验证曲线\n",
    "\n",
    "plt.plot(history_rcnn.history['acc'])\n",
    "plt.plot(history_rcnn.history['val_acc'])\n",
    "\n",
    "plt.legend(['训练曲线', '验证曲线'], loc='lower right', fontsize=16)\n",
    "\n",
    "plt.title('RCNN模型正确率', fontsize=20) # 名字写错了，应该是RCNN模型正确率\n",
    "plt.xlabel('迭代次数', fontsize=18)\n",
    "plt.ylabel('正确率', fontsize=18)\n",
    "\n",
    "plt.xticks(range(0, 21, 5), fontsize=16)\n",
    "plt.yticks(fontsize=16)\n",
    "\n",
    "plt.show()"
   ]
  },
  {
   "cell_type": "code",
   "execution_count": 53,
   "metadata": {},
   "outputs": [
    {
     "name": "stdout",
     "output_type": "stream",
     "text": [
      "7532/7532 [==============================] - 30s    \n",
      "Test score: 0.908347664776\n",
      "Test accuracy: 0.774561869357\n"
     ]
    }
   ],
   "source": [
    "# 模型测试 评估\n",
    "score, acc = model.evaluate([left_test, mid_test, right_test], y_test, batch_size=128)\n",
    "print('Test score:', score)\n",
    "print('Test accuracy:', acc)"
   ]
  },
  {
   "cell_type": "code",
   "execution_count": null,
   "metadata": {
    "collapsed": true
   },
   "outputs": [],
   "source": []
  },
  {
   "cell_type": "code",
   "execution_count": null,
   "metadata": {
    "collapsed": true
   },
   "outputs": [],
   "source": []
  },
  {
   "cell_type": "code",
   "execution_count": null,
   "metadata": {
    "collapsed": true
   },
   "outputs": [],
   "source": []
  },
  {
   "cell_type": "code",
   "execution_count": null,
   "metadata": {
    "collapsed": true
   },
   "outputs": [],
   "source": []
  },
  {
   "cell_type": "markdown",
   "metadata": {
    "collapsed": true
   },
   "source": [
    "# Embedding_layer不可训练"
   ]
  },
  {
   "cell_type": "code",
   "execution_count": null,
   "metadata": {
    "collapsed": true
   },
   "outputs": [],
   "source": [
    "# 拆分训练集，验证集和测试集\n",
    "from sklearn.model_selection import train_test_split\n",
    "\n",
    "x_tv, x_test, y_tv, y_test = train_test_split(features, labels, test_size=0.4, shuffle=False) # 测试集占据0.4\n",
    "x_train, x_val, y_train, y_val = train_test_split(x_tv, y_tv, test_size=0.2, shuffle=False) # 验证集占据0.6数据集中的0.2 = 0.12\n",
    "\n",
    "print(x_train.shape, x_val.shape, x_test.shape)\n",
    "print(y_train.shape, y_val.shape, y_test.shape)"
   ]
  },
  {
   "cell_type": "code",
   "execution_count": 17,
   "metadata": {
    "collapsed": true
   },
   "outputs": [],
   "source": [
    "# 词向量加载到embedding层中，trainable=False 使得这个编码层不可再训练\n",
    "embedding_layer = Embedding(len(word_index) + 1,\n",
    "                            embedding_dim,\n",
    "                            weights=[embedding_matrix],\n",
    "                            input_length=MAX_SEQUENCE_LENGTH,\n",
    "                            trainable=False)"
   ]
  },
  {
   "cell_type": "markdown",
   "metadata": {},
   "source": [
    "## 7. CNN + 不可训练的Embedding layer"
   ]
  },
  {
   "cell_type": "code",
   "execution_count": 28,
   "metadata": {},
   "outputs": [
    {
     "name": "stdout",
     "output_type": "stream",
     "text": [
      "_________________________________________________________________\n",
      "Layer (type)                 Output Shape              Param #   \n",
      "=================================================================\n",
      "input_3 (InputLayer)         (None, 1000)              0         \n",
      "_________________________________________________________________\n",
      "embedding_5 (Embedding)      (None, 1000, 100)         17921000  \n",
      "_________________________________________________________________\n",
      "conv1d_7 (Conv1D)            (None, 996, 128)          64128     \n",
      "_________________________________________________________________\n",
      "max_pooling1d_7 (MaxPooling1 (None, 199, 128)          0         \n",
      "_________________________________________________________________\n",
      "conv1d_8 (Conv1D)            (None, 195, 128)          82048     \n",
      "_________________________________________________________________\n",
      "max_pooling1d_8 (MaxPooling1 (None, 39, 128)           0         \n",
      "_________________________________________________________________\n",
      "conv1d_9 (Conv1D)            (None, 35, 128)           82048     \n",
      "_________________________________________________________________\n",
      "max_pooling1d_9 (MaxPooling1 (None, 1, 128)            0         \n",
      "_________________________________________________________________\n",
      "flatten_3 (Flatten)          (None, 128)               0         \n",
      "_________________________________________________________________\n",
      "dropout_3 (Dropout)          (None, 128)               0         \n",
      "_________________________________________________________________\n",
      "dense_5 (Dense)              (None, 128)               16512     \n",
      "_________________________________________________________________\n",
      "dense_6 (Dense)              (None, 20)                2580      \n",
      "=================================================================\n",
      "Total params: 18,168,316\n",
      "Trainable params: 247,316\n",
      "Non-trainable params: 17,921,000\n",
      "_________________________________________________________________\n",
      "None\n",
      "Train on 9045 samples, validate on 2262 samples\n",
      "Epoch 1/25\n",
      "9045/9045 [==============================] - 80s - loss: 2.9473 - acc: 0.0788 - val_loss: 2.5622 - val_acc: 0.1477\n",
      "Epoch 2/25\n",
      "9045/9045 [==============================] - 77s - loss: 2.3382 - acc: 0.1860 - val_loss: 2.0137 - val_acc: 0.2958\n",
      "Epoch 3/25\n",
      "9045/9045 [==============================] - 77s - loss: 1.9310 - acc: 0.2926 - val_loss: 1.7341 - val_acc: 0.3687\n",
      "Epoch 4/25\n",
      "9045/9045 [==============================] - 77s - loss: 1.6201 - acc: 0.4108 - val_loss: 1.3998 - val_acc: 0.4943\n",
      "Epoch 5/25\n",
      "9045/9045 [==============================] - 77s - loss: 1.3534 - acc: 0.5116 - val_loss: 1.1545 - val_acc: 0.5999\n",
      "Epoch 6/25\n",
      "9045/9045 [==============================] - 77s - loss: 1.1005 - acc: 0.6045 - val_loss: 1.0930 - val_acc: 0.6118\n",
      "Epoch 7/25\n",
      "9045/9045 [==============================] - 77s - loss: 0.8955 - acc: 0.6813 - val_loss: 0.8976 - val_acc: 0.6958\n",
      "Epoch 8/25\n",
      "9045/9045 [==============================] - 78s - loss: 0.8035 - acc: 0.7137 - val_loss: 0.8468 - val_acc: 0.6994\n",
      "Epoch 9/25\n",
      "9045/9045 [==============================] - 77s - loss: 0.6545 - acc: 0.7632 - val_loss: 0.7838 - val_acc: 0.7405\n",
      "Epoch 10/25\n",
      "9045/9045 [==============================] - 77s - loss: 0.5405 - acc: 0.8077 - val_loss: 0.7717 - val_acc: 0.7480\n",
      "Epoch 11/25\n",
      "9045/9045 [==============================] - 77s - loss: 0.4838 - acc: 0.8264 - val_loss: 0.7331 - val_acc: 0.7591\n",
      "Epoch 12/25\n",
      "9045/9045 [==============================] - 77s - loss: 0.3934 - acc: 0.8630 - val_loss: 0.8029 - val_acc: 0.7591\n",
      "Epoch 13/25\n",
      "9045/9045 [==============================] - 77s - loss: 0.3412 - acc: 0.8813 - val_loss: 0.7487 - val_acc: 0.7860\n",
      "Epoch 14/25\n",
      "9045/9045 [==============================] - 77s - loss: 0.2862 - acc: 0.8982 - val_loss: 0.7720 - val_acc: 0.7843\n",
      "Epoch 15/25\n",
      "9045/9045 [==============================] - 78s - loss: 0.2316 - acc: 0.9182 - val_loss: 0.7560 - val_acc: 0.7949\n",
      "Epoch 16/25\n",
      "9045/9045 [==============================] - 77s - loss: 0.2072 - acc: 0.9317 - val_loss: 0.7794 - val_acc: 0.7896\n",
      "Epoch 17/25\n",
      "9045/9045 [==============================] - 77s - loss: 0.1643 - acc: 0.9470 - val_loss: 0.8332 - val_acc: 0.7865\n",
      "Epoch 18/25\n",
      "9045/9045 [==============================] - 77s - loss: 0.1349 - acc: 0.9589 - val_loss: 0.8153 - val_acc: 0.7913\n",
      "Epoch 19/25\n",
      "9045/9045 [==============================] - 77s - loss: 0.1215 - acc: 0.9625 - val_loss: 0.9388 - val_acc: 0.7798\n",
      "Epoch 20/25\n",
      "9045/9045 [==============================] - 77s - loss: 0.1112 - acc: 0.9661 - val_loss: 0.8156 - val_acc: 0.8042\n",
      "Epoch 21/25\n",
      "9045/9045 [==============================] - 77s - loss: 0.0956 - acc: 0.9719 - val_loss: 0.8814 - val_acc: 0.7980\n",
      "Epoch 22/25\n",
      "9045/9045 [==============================] - 77s - loss: 0.0915 - acc: 0.9737 - val_loss: 0.8971 - val_acc: 0.8019\n",
      "Epoch 23/25\n",
      "9045/9045 [==============================] - 78s - loss: 0.0653 - acc: 0.9804 - val_loss: 1.0580 - val_acc: 0.7829\n",
      "Epoch 24/25\n",
      "9045/9045 [==============================] - 77s - loss: 0.0641 - acc: 0.9816 - val_loss: 0.8974 - val_acc: 0.8090\n",
      "Epoch 25/25\n",
      "9045/9045 [==============================] - 77s - loss: 0.0607 - acc: 0.9814 - val_loss: 0.9878 - val_acc: 0.7984\n"
     ]
    }
   ],
   "source": [
    "# 模型记录在logs文件中，使用tensorboard查看\n",
    "tb = [keras.callbacks.TensorBoard(log_dir='./logs')]\n",
    "\n",
    "# 输入\n",
    "main_input = Input(shape=(MAX_SEQUENCE_LENGTH,), dtype='float64')\n",
    "# 词嵌入, 使用已训练完成的词向量\n",
    "# 词向量加载到embedding层中，trainable=False 使得这个编码层不可再训练\n",
    "embedding_layer = Embedding(len(word_index) + 1,\n",
    "                            embedding_dim,\n",
    "                            weights=[embedding_matrix],\n",
    "                            input_length=MAX_SEQUENCE_LENGTH,\n",
    "                            trainable=False)\n",
    "embed = embedding_layer(main_input)\n",
    "# 使用3层卷积池化\n",
    "x = Conv1D(128, 5, activation='relu')(embed)\n",
    "x = MaxPooling1D(5)(x)\n",
    "x = Conv1D(128, 5, activation='relu')(x)\n",
    "x = MaxPooling1D(5)(x)\n",
    "x = Conv1D(128, 5, activation='relu')(x)\n",
    "x = MaxPooling1D(35)(x) # 可以使用 GlobalMaxPooling1D()(x) 防止计算错误\n",
    "x = Flatten()(x)\n",
    "x = Dropout(0.5)(x) # 丢弃50%\n",
    "x = Dense(128, activation='relu')(x)\n",
    "preds = Dense(20, activation='softmax')(x)\n",
    "model = Model(inputs=main_input, outputs=preds)\n",
    "model.compile(optimizer='adam', loss='categorical_crossentropy', metrics=['accuracy'])\n",
    "print(model.summary()) # 查看模型概况\n",
    "\n",
    "# history_cnn记录训练结果\n",
    "history_cnn = model.fit(x_train, y_train, batch_size=128, epochs=25, callbacks=tb, validation_data=(x_val, y_val))\n"
   ]
  },
  {
   "cell_type": "code",
   "execution_count": 29,
   "metadata": {
    "scrolled": true
   },
   "outputs": [
    {
     "data": {
      "image/png": "[encoded data removed]",
      "text/plain": [
       "<matplotlib.figure.Figure at 0x73b8e978>"
      ]
     },
     "metadata": {},
     "output_type": "display_data"
    }
   ],
   "source": [
    "# 绘制模型的训练和验证曲线\n",
    "# %matplotlib inline\n",
    "# plt.style.use('ggplot')\n",
    "\n",
    "# plt.rcParams['font.sans-serif']=['SimHei'] #用来正常显示中文标签\n",
    "\n",
    "plt.plot(history_cnn.history['acc'])\n",
    "plt.plot(history_cnn.history['val_acc'])\n",
    "\n",
    "plt.legend(['训练曲线', '验证曲线'], loc='lower right', fontsize=16)\n",
    "\n",
    "plt.title('CNN模型正确率', fontsize=20)\n",
    "plt.xlabel('迭代次数', fontsize=18)\n",
    "plt.ylabel('正确率', fontsize=18)\n",
    "\n",
    "plt.xticks(range(0, 26, 5), fontsize=16)\n",
    "plt.yticks(fontsize=16)\n",
    "\n",
    "plt.show()"
   ]
  },
  {
   "cell_type": "code",
   "execution_count": 30,
   "metadata": {},
   "outputs": [
    {
     "name": "stdout",
     "output_type": "stream",
     "text": [
      "7539/7539 [==============================] - 25s    \n",
      "Test score: 1.01512752662\n",
      "Test accuracy: 0.782729804745\n"
     ]
    }
   ],
   "source": [
    "# 模型测试 评估\n",
    "score, acc = model.evaluate(x_test, y_test, batch_size=128)\n",
    "print('Test score:', score)\n",
    "print('Test accuracy:', acc)"
   ]
  },
  {
   "cell_type": "markdown",
   "metadata": {},
   "source": [
    "## 8. TextCNN + 不可训练的Embedding layer"
   ]
  },
  {
   "cell_type": "code",
   "execution_count": 31,
   "metadata": {
    "scrolled": true
   },
   "outputs": [
    {
     "name": "stdout",
     "output_type": "stream",
     "text": [
      "____________________________________________________________________________________________________\n",
      "Layer (type)                     Output Shape          Param #     Connected to                     \n",
      "====================================================================================================\n",
      "input_4 (InputLayer)             (None, 1000)          0                                            \n",
      "____________________________________________________________________________________________________\n",
      "embedding_6 (Embedding)          (None, 1000, 100)     17921000    input_4[0][0]                    \n",
      "____________________________________________________________________________________________________\n",
      "conv1d_10 (Conv1D)               (None, 1000, 128)     38528       embedding_6[0][0]                \n",
      "____________________________________________________________________________________________________\n",
      "conv1d_11 (Conv1D)               (None, 1000, 128)     51328       embedding_6[0][0]                \n",
      "____________________________________________________________________________________________________\n",
      "conv1d_12 (Conv1D)               (None, 1000, 128)     64128       embedding_6[0][0]                \n",
      "____________________________________________________________________________________________________\n",
      "max_pooling1d_10 (MaxPooling1D)  (None, 250, 128)      0           conv1d_10[0][0]                  \n",
      "____________________________________________________________________________________________________\n",
      "max_pooling1d_11 (MaxPooling1D)  (None, 250, 128)      0           conv1d_11[0][0]                  \n",
      "____________________________________________________________________________________________________\n",
      "max_pooling1d_12 (MaxPooling1D)  (None, 250, 128)      0           conv1d_12[0][0]                  \n",
      "____________________________________________________________________________________________________\n",
      "concatenate_2 (Concatenate)      (None, 250, 384)      0           max_pooling1d_10[0][0]           \n",
      "                                                                   max_pooling1d_11[0][0]           \n",
      "                                                                   max_pooling1d_12[0][0]           \n",
      "____________________________________________________________________________________________________\n",
      "flatten_4 (Flatten)              (None, 96000)         0           concatenate_2[0][0]              \n",
      "____________________________________________________________________________________________________\n",
      "dropout_4 (Dropout)              (None, 96000)         0           flatten_4[0][0]                  \n",
      "____________________________________________________________________________________________________\n",
      "dense_7 (Dense)                  (None, 20)            1920020     dropout_4[0][0]                  \n",
      "====================================================================================================\n",
      "Total params: 19,995,004\n",
      "Trainable params: 2,074,004\n",
      "Non-trainable params: 17,921,000\n",
      "____________________________________________________________________________________________________\n",
      "None\n",
      "Train on 9045 samples, validate on 2262 samples\n",
      "Epoch 1/20\n",
      "9045/9045 [==============================] - 176s - loss: 4.7830 - acc: 0.1793 - val_loss: 3.7674 - val_acc: 0.3652\n",
      "Epoch 2/20\n",
      "9045/9045 [==============================] - 171s - loss: 3.2854 - acc: 0.5456 - val_loss: 3.2495 - val_acc: 0.5575\n",
      "Epoch 3/20\n",
      "9045/9045 [==============================] - 173s - loss: 2.8442 - acc: 0.7268 - val_loss: 3.2230 - val_acc: 0.6048\n",
      "Epoch 4/20\n",
      "9045/9045 [==============================] - 172s - loss: 2.6468 - acc: 0.8113 - val_loss: 3.2181 - val_acc: 0.6141\n",
      "Epoch 5/20\n",
      "9045/9045 [==============================] - 172s - loss: 2.5495 - acc: 0.8565 - val_loss: 3.2406 - val_acc: 0.6397\n",
      "Epoch 6/20\n",
      "9045/9045 [==============================] - 172s - loss: 2.5031 - acc: 0.8844 - val_loss: 3.1990 - val_acc: 0.6432\n",
      "Epoch 7/20\n",
      "9045/9045 [==============================] - 171s - loss: 2.4776 - acc: 0.8988 - val_loss: 3.2205 - val_acc: 0.6583\n",
      "Epoch 8/20\n",
      "9045/9045 [==============================] - 171s - loss: 2.4479 - acc: 0.9185 - val_loss: 3.1641 - val_acc: 0.6702\n",
      "Epoch 9/20\n",
      "9045/9045 [==============================] - 171s - loss: 2.4202 - acc: 0.9211 - val_loss: 3.3357 - val_acc: 0.6530\n",
      "Epoch 10/20\n",
      "9045/9045 [==============================] - 172s - loss: 2.4309 - acc: 0.9291 - val_loss: 3.1691 - val_acc: 0.6627\n",
      "Epoch 11/20\n",
      "9045/9045 [==============================] - 171s - loss: 2.3879 - acc: 0.9376 - val_loss: 3.1475 - val_acc: 0.6689\n",
      "Epoch 12/20\n",
      "9045/9045 [==============================] - 171s - loss: 2.3001 - acc: 0.9441 - val_loss: 3.2084 - val_acc: 0.6490\n",
      "Epoch 13/20\n",
      "9045/9045 [==============================] - 184s - loss: 2.3410 - acc: 0.9409 - val_loss: 3.1865 - val_acc: 0.6786\n",
      "Epoch 14/20\n",
      "9045/9045 [==============================] - 172s - loss: 2.2944 - acc: 0.9508 - val_loss: 3.2015 - val_acc: 0.6547\n",
      "Epoch 15/20\n",
      "9045/9045 [==============================] - 172s - loss: 2.3668 - acc: 0.9401 - val_loss: 3.2756 - val_acc: 0.6777\n",
      "Epoch 16/20\n",
      "9045/9045 [==============================] - 172s - loss: 2.4195 - acc: 0.9455 - val_loss: 3.2722 - val_acc: 0.6587\n",
      "Epoch 17/20\n",
      "9045/9045 [==============================] - 173s - loss: 2.2978 - acc: 0.9531 - val_loss: 3.0751 - val_acc: 0.6777\n",
      "Epoch 18/20\n",
      "9045/9045 [==============================] - 172s - loss: 2.2762 - acc: 0.9546 - val_loss: 3.2518 - val_acc: 0.6693\n",
      "Epoch 19/20\n",
      "9045/9045 [==============================] - 171s - loss: 2.3977 - acc: 0.9438 - val_loss: 3.2077 - val_acc: 0.6826\n",
      "Epoch 20/20\n",
      "9045/9045 [==============================] - 172s - loss: 2.2993 - acc: 0.9632 - val_loss: 3.1671 - val_acc: 0.6737\n"
     ]
    }
   ],
   "source": [
    "from keras import regularizers\n",
    "\n",
    "# 模型结构：词嵌入-卷积池化*3-拼接-全连接-dropout-全连接\n",
    "\n",
    "num_filters = 128 # 卷积核的数目\n",
    "\n",
    "main_input = Input(shape=(MAX_SEQUENCE_LENGTH,), dtype='float64')\n",
    "\n",
    "# 词嵌入, 使用已训练完成的词向量\n",
    "# 词向量加载到embedding层中，trainable=False 使得这个编码层不可再训练\n",
    "embedding_layer = Embedding(len(word_index) + 1,\n",
    "                            embedding_dim,\n",
    "                            weights=[embedding_matrix],\n",
    "                            input_length=MAX_SEQUENCE_LENGTH,\n",
    "                            trainable=False)\n",
    "embed = embedding_layer(main_input)\n",
    "\n",
    "# 词窗大小分别为3,4,5\n",
    "cnn1 = Conv1D(num_filters, 3, padding='same', strides = 1, activation='relu')(embed)\n",
    "cnn1 = MaxPooling1D(pool_size=4)(cnn1)\n",
    "cnn2 = Conv1D(num_filters, 4, padding='same', strides = 1, activation='relu')(embed)\n",
    "cnn2 = MaxPooling1D(pool_size=4)(cnn2)\n",
    "cnn3 = Conv1D(num_filters, 5, padding='same', strides = 1, activation='relu')(embed)\n",
    "cnn3 = MaxPooling1D(pool_size=4)(cnn3)\n",
    "\n",
    "# 合并三个模型的输出向量\n",
    "cnn = Concatenate(axis=-1)([cnn1,cnn2,cnn3])\n",
    "flat = Flatten()(cnn)\n",
    "drop = Dropout(0.5)(flat)\n",
    "main_output = Dense(20, activation='softmax', kernel_regularizer=regularizers.l2(0.01), activity_regularizer=regularizers.l1(0.01))(drop)\n",
    "model = Model(inputs = main_input, outputs = main_output)\n",
    "model.compile(optimizer='adam', loss='categorical_crossentropy', metrics=['accuracy'])\n",
    "print(model.summary())\n",
    "\n",
    "# earlystop = [keras.callbacks.EarlyStopping(monitor='val_loss', min_delta=0.01, patience=0, verbose=0, mode='auto')]\n",
    "history_textcnn = model.fit(x_train, y_train, batch_size=128, epochs=20, callbacks=tb, validation_data=(x_val, y_val))"
   ]
  },
  {
   "cell_type": "code",
   "execution_count": 32,
   "metadata": {},
   "outputs": [
    {
     "data": {
      "image/png": "[encoded data removed]",
      "text/plain": [
       "<matplotlib.figure.Figure at 0x22a699b0>"
      ]
     },
     "metadata": {},
     "output_type": "display_data"
    }
   ],
   "source": [
    "# 绘制训练和验证曲线\n",
    "plt.plot(history_textcnn.history['acc'])\n",
    "plt.plot(history_textcnn.history['val_acc'])\n",
    "\n",
    "plt.legend(['训练曲线', '验证曲线'], loc='lower right', fontsize=16)\n",
    "\n",
    "plt.title('TextCNN模型正确率', fontsize=20)\n",
    "plt.xlabel('迭代次数', fontsize=18)\n",
    "plt.ylabel('正确率', fontsize=18)\n",
    "\n",
    "plt.xticks(range(0, 21, 4), fontsize=16)\n",
    "plt.yticks(fontsize=16)\n",
    "\n",
    "plt.show()"
   ]
  },
  {
   "cell_type": "code",
   "execution_count": 33,
   "metadata": {},
   "outputs": [
    {
     "name": "stdout",
     "output_type": "stream",
     "text": [
      "7539/7539 [==============================] - 47s    \n",
      "Test score: 3.21885605664\n",
      "Test accuracy: 0.664677012922\n"
     ]
    }
   ],
   "source": [
    "# 模型测试 评估\n",
    "score, acc = model.evaluate(x_test, y_test, batch_size=128)\n",
    "print('Test score:', score)\n",
    "print('Test accuracy:', acc)"
   ]
  },
  {
   "cell_type": "markdown",
   "metadata": {},
   "source": [
    "## 9. TextRNN-LSTM + 不可训练的Embedding layer"
   ]
  },
  {
   "cell_type": "code",
   "execution_count": 34,
   "metadata": {},
   "outputs": [
    {
     "name": "stdout",
     "output_type": "stream",
     "text": [
      "_________________________________________________________________\n",
      "Layer (type)                 Output Shape              Param #   \n",
      "=================================================================\n",
      "embedding_7 (Embedding)      (None, 1000, 100)         17921000  \n",
      "_________________________________________________________________\n",
      "lstm_2 (LSTM)                (None, 100)               80400     \n",
      "_________________________________________________________________\n",
      "dense_8 (Dense)              (None, 20)                2020      \n",
      "=================================================================\n",
      "Total params: 18,003,420\n",
      "Trainable params: 82,420\n",
      "Non-trainable params: 17,921,000\n",
      "_________________________________________________________________\n",
      "None\n",
      "Train on 9045 samples, validate on 2262 samples\n",
      "Epoch 1/60\n",
      "9045/9045 [==============================] - 572s - loss: 4.4974 - acc: 0.0785 - val_loss: 4.3313 - val_acc: 0.1247\n",
      "Epoch 2/60\n",
      "9045/9045 [==============================] - 582s - loss: 4.2731 - acc: 0.1287 - val_loss: 4.0358 - val_acc: 0.1773\n",
      "Epoch 3/60\n",
      "9045/9045 [==============================] - 588s - loss: 4.1173 - acc: 0.1473 - val_loss: 3.7995 - val_acc: 0.2219\n",
      "Epoch 4/60\n",
      "9045/9045 [==============================] - 596s - loss: 3.9769 - acc: 0.1771 - val_loss: 3.7408 - val_acc: 0.2259\n",
      "Epoch 5/60\n",
      "9045/9045 [==============================] - 594s - loss: 3.8472 - acc: 0.2015 - val_loss: 3.5786 - val_acc: 0.2401\n",
      "Epoch 6/60\n",
      "9045/9045 [==============================] - 592s - loss: 3.7427 - acc: 0.2222 - val_loss: 3.4928 - val_acc: 0.2829\n",
      "Epoch 7/60\n",
      "9045/9045 [==============================] - 597s - loss: 3.6605 - acc: 0.2409 - val_loss: 3.3921 - val_acc: 0.3011\n",
      "Epoch 8/60\n",
      "9045/9045 [==============================] - 596s - loss: 3.5645 - acc: 0.2693 - val_loss: 3.3276 - val_acc: 0.3320\n",
      "Epoch 9/60\n",
      "9045/9045 [==============================] - 598s - loss: 3.5066 - acc: 0.2942 - val_loss: 3.2661 - val_acc: 0.3643\n",
      "Epoch 10/60\n",
      "9045/9045 [==============================] - 599s - loss: 3.4287 - acc: 0.3122 - val_loss: 3.1834 - val_acc: 0.3890\n",
      "Epoch 11/60\n",
      "9045/9045 [==============================] - 599s - loss: 3.3741 - acc: 0.3261 - val_loss: 3.1336 - val_acc: 0.4010\n",
      "Epoch 12/60\n",
      "9045/9045 [==============================] - 600s - loss: 3.3343 - acc: 0.3514 - val_loss: 3.1028 - val_acc: 0.4209\n",
      "Epoch 13/60\n",
      "9045/9045 [==============================] - 597s - loss: 3.2855 - acc: 0.3634 - val_loss: 3.0177 - val_acc: 0.4430\n",
      "Epoch 14/60\n",
      "9045/9045 [==============================] - 599s - loss: 3.2365 - acc: 0.3839 - val_loss: 2.9805 - val_acc: 0.4642\n",
      "Epoch 15/60\n",
      "9045/9045 [==============================] - 597s - loss: 3.2062 - acc: 0.3980 - val_loss: 2.9397 - val_acc: 0.4593\n",
      "Epoch 16/60\n",
      "9045/9045 [==============================] - 596s - loss: 3.1525 - acc: 0.4223 - val_loss: 2.9077 - val_acc: 0.4744\n",
      "Epoch 17/60\n",
      "9045/9045 [==============================] - 599s - loss: 3.1257 - acc: 0.4336 - val_loss: 2.8622 - val_acc: 0.5097\n",
      "Epoch 18/60\n",
      "9045/9045 [==============================] - 600s - loss: 3.0868 - acc: 0.4532 - val_loss: 2.8154 - val_acc: 0.5323\n",
      "Epoch 19/60\n",
      "9045/9045 [==============================] - 599s - loss: 3.0717 - acc: 0.4576 - val_loss: 2.8102 - val_acc: 0.5442\n",
      "Epoch 20/60\n",
      "9045/9045 [==============================] - 599s - loss: 3.0562 - acc: 0.4666 - val_loss: 2.7684 - val_acc: 0.5535\n",
      "Epoch 21/60\n",
      "9045/9045 [==============================] - 600s - loss: 3.0050 - acc: 0.4860 - val_loss: 2.7325 - val_acc: 0.5774\n",
      "Epoch 22/60\n",
      "9045/9045 [==============================] - 602s - loss: 2.9689 - acc: 0.5033 - val_loss: 2.7089 - val_acc: 0.5738\n",
      "Epoch 23/60\n",
      "9045/9045 [==============================] - 600s - loss: 2.9470 - acc: 0.5203 - val_loss: 2.6888 - val_acc: 0.5805\n",
      "Epoch 24/60\n",
      "9045/9045 [==============================] - 602s - loss: 2.9137 - acc: 0.5270 - val_loss: 2.6724 - val_acc: 0.5875\n",
      "Epoch 25/60\n",
      "9045/9045 [==============================] - 603s - loss: 2.8952 - acc: 0.5331 - val_loss: 2.6325 - val_acc: 0.6114\n",
      "Epoch 26/60\n",
      "9045/9045 [==============================] - 603s - loss: 2.8870 - acc: 0.5394 - val_loss: 2.6220 - val_acc: 0.6198\n",
      "Epoch 27/60\n",
      "9045/9045 [==============================] - 605s - loss: 2.8742 - acc: 0.5472 - val_loss: 2.5964 - val_acc: 0.6242\n",
      "Epoch 28/60\n",
      "9045/9045 [==============================] - 606s - loss: 2.8449 - acc: 0.5526 - val_loss: 2.5946 - val_acc: 0.6172\n",
      "Epoch 29/60\n",
      "9045/9045 [==============================] - 604s - loss: 2.8317 - acc: 0.5590 - val_loss: 2.5741 - val_acc: 0.6441\n",
      "Epoch 30/60\n",
      "9045/9045 [==============================] - 607s - loss: 2.8164 - acc: 0.5677 - val_loss: 2.5530 - val_acc: 0.6516\n",
      "Epoch 31/60\n",
      "9045/9045 [==============================] - 605s - loss: 2.7986 - acc: 0.5756 - val_loss: 2.5339 - val_acc: 0.6534\n",
      "Epoch 32/60\n",
      "9045/9045 [==============================] - 601s - loss: 2.7879 - acc: 0.5802 - val_loss: 2.5154 - val_acc: 0.6561\n",
      "Epoch 33/60\n",
      "9045/9045 [==============================] - 608s - loss: 2.7726 - acc: 0.5799 - val_loss: 2.4997 - val_acc: 0.6618\n",
      "Epoch 34/60\n",
      "9045/9045 [==============================] - 608s - loss: 2.7553 - acc: 0.5927 - val_loss: 2.5002 - val_acc: 0.6614\n",
      "Epoch 35/60\n",
      "9045/9045 [==============================] - 605s - loss: 2.7336 - acc: 0.5992 - val_loss: 2.4776 - val_acc: 0.6640\n",
      "Epoch 36/60\n",
      "9045/9045 [==============================] - 607s - loss: 2.7358 - acc: 0.6007 - val_loss: 2.4703 - val_acc: 0.6702\n",
      "Epoch 37/60\n",
      "9045/9045 [==============================] - 607s - loss: 2.7406 - acc: 0.5993 - val_loss: 2.4683 - val_acc: 0.6711\n",
      "Epoch 38/60\n",
      "9045/9045 [==============================] - 603s - loss: 2.7337 - acc: 0.6019 - val_loss: 2.4535 - val_acc: 0.6817\n",
      "Epoch 39/60\n",
      "9045/9045 [==============================] - 606s - loss: 2.7084 - acc: 0.6123 - val_loss: 2.4440 - val_acc: 0.6870\n",
      "Epoch 40/60\n",
      "9045/9045 [==============================] - 609s - loss: 2.6944 - acc: 0.6219 - val_loss: 2.4289 - val_acc: 0.6932\n",
      "Epoch 41/60\n",
      "9045/9045 [==============================] - 609s - loss: 2.6929 - acc: 0.6222 - val_loss: 2.4512 - val_acc: 0.6844\n",
      "Epoch 42/60\n",
      "9045/9045 [==============================] - 603s - loss: 2.6971 - acc: 0.6174 - val_loss: 2.4332 - val_acc: 0.6844\n",
      "Epoch 43/60\n",
      "9045/9045 [==============================] - 608s - loss: 2.6926 - acc: 0.6235 - val_loss: 2.4263 - val_acc: 0.6976\n",
      "Epoch 44/60\n",
      "9045/9045 [==============================] - 610s - loss: 2.6884 - acc: 0.6244 - val_loss: 2.4178 - val_acc: 0.6945\n",
      "Epoch 45/60\n",
      "9045/9045 [==============================] - 615s - loss: 2.6781 - acc: 0.6206 - val_loss: 2.4114 - val_acc: 0.7029\n",
      "Epoch 46/60\n",
      "9045/9045 [==============================] - 612s - loss: 2.6522 - acc: 0.6400 - val_loss: 2.4078 - val_acc: 0.7003\n",
      "Epoch 47/60\n",
      "9045/9045 [==============================] - 611s - loss: 2.6492 - acc: 0.6395 - val_loss: 2.3984 - val_acc: 0.7011\n",
      "Epoch 48/60\n",
      "9045/9045 [==============================] - 617s - loss: 2.6335 - acc: 0.6408 - val_loss: 2.3907 - val_acc: 0.6998\n",
      "Epoch 49/60\n",
      "9045/9045 [==============================] - 617s - loss: 2.6276 - acc: 0.6499 - val_loss: 2.3838 - val_acc: 0.7020\n",
      "Epoch 50/60\n",
      "9045/9045 [==============================] - 628s - loss: 2.6321 - acc: 0.6421 - val_loss: 2.3803 - val_acc: 0.7100\n",
      "Epoch 51/60\n",
      "9045/9045 [==============================] - 633s - loss: 2.6177 - acc: 0.6451 - val_loss: 2.3803 - val_acc: 0.7069\n",
      "Epoch 52/60\n",
      "9045/9045 [==============================] - 639s - loss: 2.6129 - acc: 0.6499 - val_loss: 2.3682 - val_acc: 0.7126\n",
      "Epoch 53/60\n",
      "9045/9045 [==============================] - 645s - loss: 2.6075 - acc: 0.6436 - val_loss: 2.3686 - val_acc: 0.7149\n",
      "Epoch 54/60\n",
      "9045/9045 [==============================] - 657s - loss: 2.5937 - acc: 0.6603 - val_loss: 2.3582 - val_acc: 0.7202\n",
      "Epoch 55/60\n",
      "9045/9045 [==============================] - 660s - loss: 2.5819 - acc: 0.6622 - val_loss: 2.3389 - val_acc: 0.7286\n",
      "Epoch 56/60\n",
      "9045/9045 [==============================] - 660s - loss: 2.5889 - acc: 0.6589 - val_loss: 2.3460 - val_acc: 0.7224\n",
      "Epoch 57/60\n",
      "9045/9045 [==============================] - 661s - loss: 2.5889 - acc: 0.6656 - val_loss: 2.3428 - val_acc: 0.7250\n",
      "Epoch 58/60\n",
      "9045/9045 [==============================] - 668s - loss: 2.5846 - acc: 0.6603 - val_loss: 2.3316 - val_acc: 0.7290\n",
      "Epoch 59/60\n",
      "9045/9045 [==============================] - 668s - loss: 2.5656 - acc: 0.6700 - val_loss: 2.3279 - val_acc: 0.7286\n",
      "Epoch 60/60\n",
      "9045/9045 [==============================] - 668s - loss: 2.5594 - acc: 0.6754 - val_loss: 2.3210 - val_acc: 0.7352\n"
     ]
    }
   ],
   "source": [
    "# 模型结构：词嵌入-LSTM-全连接\n",
    "model = Sequential()\n",
    "model.add(Embedding(len(word_index) + 1,  embedding_dim, weights=[embedding_matrix], \n",
    "                    input_length=MAX_SEQUENCE_LENGTH, trainable=False))\n",
    "model.add(LSTM(100, dropout=0.5, recurrent_dropout=0.5))\n",
    "\n",
    "# 在全连接层上对权重实施L2正则化，对输出实施L1正则化\n",
    "model.add(Dense(20, activation='softmax', kernel_regularizer=regularizers.l2(0.01), \n",
    "                activity_regularizer=regularizers.l1(0.01)))\n",
    "\n",
    "model.compile(optimizer='adam', loss='categorical_crossentropy', metrics=['accuracy'])\n",
    "print(model.summary())\n",
    "\n",
    "# earlystop = [keras.callbacks.EarlyStopping(monitor='val_loss', min_delta=0.01, patience=0, verbose=0, mode='auto')]\n",
    "history_rnn = model.fit(x_train, y_train, batch_size=128, epochs=60, callbacks=tb, validation_data=(x_val, y_val))"
   ]
  },
  {
   "cell_type": "code",
   "execution_count": 35,
   "metadata": {},
   "outputs": [
    {
     "data": {
      "image/png": "[encoded data removed]",
      "text/plain": [
       "<matplotlib.figure.Figure at 0x71737860>"
      ]
     },
     "metadata": {},
     "output_type": "display_data"
    }
   ],
   "source": [
    "# 绘制训练和验证曲线\n",
    "plt.plot(history_rnn.history['acc'])\n",
    "plt.plot(history_rnn.history['val_acc'])\n",
    "\n",
    "plt.legend(['训练曲线', '验证曲线'], loc='lower right', fontsize=16)\n",
    "\n",
    "plt.title('TextRNN-LSTM模型正确率', fontsize=20)\n",
    "plt.xlabel('迭代次数', fontsize=18)\n",
    "plt.ylabel('正确率', fontsize=18)\n",
    "\n",
    "plt.xticks(range(0, 61, 5), fontsize=16)\n",
    "plt.yticks(fontsize=16)\n",
    "\n",
    "plt.show()"
   ]
  },
  {
   "cell_type": "code",
   "execution_count": 36,
   "metadata": {},
   "outputs": [
    {
     "name": "stdout",
     "output_type": "stream",
     "text": [
      "7539/7539 [==============================] - 82s    \n",
      "Test score: 2.35228196596\n",
      "Test accuracy: 0.729805013817\n"
     ]
    }
   ],
   "source": [
    "# 模型测试和评估\n",
    "score, acc = model.evaluate(x_test, y_test, batch_size=128)\n",
    "print('Test score:', score)\n",
    "print('Test accuracy:', acc)"
   ]
  },
  {
   "cell_type": "code",
   "execution_count": null,
   "metadata": {
    "collapsed": true
   },
   "outputs": [],
   "source": []
  },
  {
   "cell_type": "code",
   "execution_count": null,
   "metadata": {
    "collapsed": true
   },
   "outputs": [],
   "source": []
  },
  {
   "cell_type": "code",
   "execution_count": null,
   "metadata": {
    "collapsed": true
   },
   "outputs": [],
   "source": []
  },
  {
   "cell_type": "code",
   "execution_count": null,
   "metadata": {
    "collapsed": true
   },
   "outputs": [],
   "source": []
  },
  {
   "cell_type": "code",
   "execution_count": null,
   "metadata": {
    "collapsed": true
   },
   "outputs": [],
   "source": []
  }
 ],
 "metadata": {
  "kernelspec": {
   "display_name": "Python 3",
   "language": "python",
   "name": "python3"
  },
  "language_info": {
   "codemirror_mode": {
    "name": "ipython",
    "version": 3
   },
   "file_extension": ".py",
   "mimetype": "text/x-python",
   "name": "python",
   "nbconvert_exporter": "python",
   "pygments_lexer": "ipython3",
   "version": "3.6.1"
  }
 },
 "nbformat": 4,
 "nbformat_minor": 2
}
