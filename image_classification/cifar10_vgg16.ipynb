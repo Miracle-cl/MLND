{
 "cells": [
  {
   "cell_type": "code",
   "execution_count": 5,
   "metadata": {
    "collapsed": true
   },
   "outputs": [],
   "source": [
    "import keras\n",
    "import numpy as np\n",
    "from keras.datasets import cifar10\n",
    "from keras.preprocessing.image import ImageDataGenerator\n",
    "from keras.models import Sequential\n",
    "from keras.layers import Dense, Dropout, Conv2D, MaxPooling2D, GlobalAveragePooling2D, Activation\n",
    "import matplotlib.pyplot as plt\n",
    "from time import time\n",
    "from sklearn.model_selection import train_test_split\n",
    "\n",
    "%matplotlib inline"
   ]
  },
  {
   "cell_type": "code",
   "execution_count": 4,
   "metadata": {},
   "outputs": [
    {
     "name": "stdout",
     "output_type": "stream",
     "text": [
      "Downloading data from https://www.cs.toronto.edu/~kriz/cifar-10-python.tar.gz\n",
      "170500096/170498071 [==============================] - 25s 0us/step\n"
     ]
    }
   ],
   "source": [
    "# load data\n",
    "(x_train, y_train), (x_test, y_test) = cifar10.load_data()"
   ]
  },
  {
   "cell_type": "markdown",
   "metadata": {},
   "source": [
    "### 数据预处理"
   ]
  },
  {
   "cell_type": "code",
   "execution_count": null,
   "metadata": {
    "collapsed": true
   },
   "outputs": [],
   "source": [
    "# 以channels来划分，计算均值、标准差\n",
    "np.mean(x_train, axis=(0,1,2)) # == x_mean\n",
    "np.std(x_train, axis=(0,1,2)) # == x_std"
   ]
  },
  {
   "cell_type": "code",
   "execution_count": 7,
   "metadata": {
    "collapsed": true
   },
   "outputs": [],
   "source": [
    "def color_preprocessing(x_train, x_test):\n",
    "    # every channel : mean = 0, std = 1\n",
    "    x_train = x_train.astype('float32')\n",
    "    x_test = x_test.astype('float32')\n",
    "    x_mean = [125.307,  122.950,  113.865]\n",
    "    x_std = [62.993,  62.089,  66.705]\n",
    "    for i in range(3):\n",
    "        x_train[:,:,:,i] = (x_train[:,:,:,i] - x_mean[i]) / x_std[i]\n",
    "        x_test[:,:,:,i] = (x_test[:,:,:,i] - x_mean[i]) / x_std[i]\n",
    "    return x_train, x_test"
   ]
  },
  {
   "cell_type": "code",
   "execution_count": 8,
   "metadata": {
    "collapsed": true
   },
   "outputs": [],
   "source": [
    "# mean = 0, std = 1\n",
    "x_train, x_test = color_preprocessing(x_train, x_test)\n",
    "\n",
    "# one_hot\n",
    "y_train = keras.utils.to_categorical(y_train, 10)\n",
    "y_test = keras.utils.to_categorical(y_test, 10)"
   ]
  },
  {
   "cell_type": "code",
   "execution_count": 9,
   "metadata": {},
   "outputs": [
    {
     "data": {
      "text/plain": [
       "((50000, 32, 32, 3), (50000, 10), (10000, 32, 32, 3), (10000, 10))"
      ]
     },
     "execution_count": 9,
     "metadata": {},
     "output_type": "execute_result"
    }
   ],
   "source": [
    "x_train.shape, y_train.shape, x_test.shape, y_test.shape"
   ]
  },
  {
   "cell_type": "code",
   "execution_count": 10,
   "metadata": {},
   "outputs": [
    {
     "data": {
      "text/plain": [
       "array([[-1.052609  , -1.3066055 , -1.195482  , -0.909736  , -0.4334926 ],\n",
       "       [-1.7352245 , -1.989221  , -1.703475  , -1.1796073 , -0.5922404 ],\n",
       "       [-1.5923516 , -1.7352245 , -1.2113568 , -0.6716143 , -0.24299525],\n",
       "       [-1.4653533 , -1.3859794 , -0.6081152 , -0.30649436, -0.16362134],\n",
       "       [-1.195482  , -1.052609  , -0.36999348,  0.02687602, -0.02074832]],\n",
       "      dtype=float32)"
      ]
     },
     "execution_count": 10,
     "metadata": {},
     "output_type": "execute_result"
    }
   ],
   "source": [
    "x_train[0,:5,:5,0]"
   ]
  },
  {
   "cell_type": "code",
   "execution_count": 11,
   "metadata": {},
   "outputs": [
    {
     "data": {
      "text/plain": [
       "((45000, 32, 32, 3), (5000, 32, 32, 3), (45000, 10), (5000, 10))"
      ]
     },
     "execution_count": 11,
     "metadata": {},
     "output_type": "execute_result"
    }
   ],
   "source": [
    "train_x, valid_x, train_y, valid_y = train_test_split(x_train, y_train, test_size=0.1, random_state=42)\n",
    "\n",
    "train_x.shape, valid_x.shape, train_y.shape, valid_y.shape"
   ]
  },
  {
   "cell_type": "code",
   "execution_count": 12,
   "metadata": {
    "collapsed": true
   },
   "outputs": [],
   "source": [
    "weight_decay = 0.0001 # L2 "
   ]
  },
  {
   "cell_type": "code",
   "execution_count": 13,
   "metadata": {
    "collapsed": true
   },
   "outputs": [],
   "source": [
    "def build_model():\n",
    "    # from github : https://github.com/BIGBALLON/cifar-10-cnn/blob/master/2_Network_in_Network/Network_in_Network_keras.py\n",
    "    # strange cnovnet\n",
    "    model = Sequential()\n",
    "    \n",
    "    model.add(Conv2D(192, (5,5), padding='same', activation='relu', kernel_regularizer=keras.regularizers.l2(weight_decay), input_shape=(32,32,3))) \n",
    "    model.add(Conv2D(160, (1,1), padding='same', activation='relu', kernel_regularizer=keras.regularizers.l2(weight_decay))) \n",
    "    model.add(Conv2D(96, (1,1), padding='same', activation='relu', kernel_regularizer=keras.regularizers.l2(weight_decay)))\n",
    "    model.add(MaxPooling2D(pool_size=(3,3), strides=(2,2), padding='same'))\n",
    "    \n",
    "    model.add(Dropout(0.5))\n",
    "    \n",
    "    model.add(Conv2D(192, (5,5), padding='same', activation='relu', kernel_regularizer=keras.regularizers.l2(weight_decay)))\n",
    "    model.add(Conv2D(192, (1,1), padding='same', activation='relu', kernel_regularizer=keras.regularizers.l2(weight_decay)))\n",
    "    model.add(Conv2D(192, (1,1), padding='same', activation='relu', kernel_regularizer=keras.regularizers.l2(weight_decay))) \n",
    "    model.add(MaxPooling2D(pool_size=(3,3), strides=(2,2), padding='same'))\n",
    "    \n",
    "    model.add(Dropout(0.5))\n",
    "    \n",
    "    model.add(Conv2D(192, (3,3), padding='same', activation='relu', kernel_regularizer=keras.regularizers.l2(weight_decay)))\n",
    "    model.add(Conv2D(192, (1,1), padding='same', activation='relu', kernel_regularizer=keras.regularizers.l2(weight_decay)))\n",
    "    model.add(Conv2D(10, (1,1), padding='same', activation='relu', kernel_regularizer=keras.regularizers.l2(weight_decay))) \n",
    "    \n",
    "    model.add(GlobalAveragePooling2D())\n",
    "    model.add(Activation('softmax'))\n",
    "    \n",
    "    model.compile(loss='categorical_crossentropy', optimizer='adam', metrics=['accuracy'])\n",
    "    \n",
    "    return model"
   ]
  },
  {
   "cell_type": "code",
   "execution_count": 14,
   "metadata": {},
   "outputs": [
    {
     "name": "stdout",
     "output_type": "stream",
     "text": [
      "_________________________________________________________________\n",
      "Layer (type)                 Output Shape              Param #   \n",
      "=================================================================\n",
      "conv2d_1 (Conv2D)            (None, 32, 32, 192)       14592     \n",
      "_________________________________________________________________\n",
      "conv2d_2 (Conv2D)            (None, 32, 32, 160)       30880     \n",
      "_________________________________________________________________\n",
      "conv2d_3 (Conv2D)            (None, 32, 32, 96)        15456     \n",
      "_________________________________________________________________\n",
      "max_pooling2d_1 (MaxPooling2 (None, 16, 16, 96)        0         \n",
      "_________________________________________________________________\n",
      "dropout_1 (Dropout)          (None, 16, 16, 96)        0         \n",
      "_________________________________________________________________\n",
      "conv2d_4 (Conv2D)            (None, 16, 16, 192)       460992    \n",
      "_________________________________________________________________\n",
      "conv2d_5 (Conv2D)            (None, 16, 16, 192)       37056     \n",
      "_________________________________________________________________\n",
      "conv2d_6 (Conv2D)            (None, 16, 16, 192)       37056     \n",
      "_________________________________________________________________\n",
      "max_pooling2d_2 (MaxPooling2 (None, 8, 8, 192)         0         \n",
      "_________________________________________________________________\n",
      "dropout_2 (Dropout)          (None, 8, 8, 192)         0         \n",
      "_________________________________________________________________\n",
      "conv2d_7 (Conv2D)            (None, 8, 8, 192)         331968    \n",
      "_________________________________________________________________\n",
      "conv2d_8 (Conv2D)            (None, 8, 8, 192)         37056     \n",
      "_________________________________________________________________\n",
      "conv2d_9 (Conv2D)            (None, 8, 8, 10)          1930      \n",
      "_________________________________________________________________\n",
      "global_average_pooling2d_1 ( (None, 10)                0         \n",
      "_________________________________________________________________\n",
      "activation_1 (Activation)    (None, 10)                0         \n",
      "=================================================================\n",
      "Total params: 966,986\n",
      "Trainable params: 966,986\n",
      "Non-trainable params: 0\n",
      "_________________________________________________________________\n",
      "None\n"
     ]
    }
   ],
   "source": [
    "model = build_model()\n",
    "print(model.summary())"
   ]
  },
  {
   "cell_type": "code",
   "execution_count": 15,
   "metadata": {
    "collapsed": true
   },
   "outputs": [],
   "source": [
    "# data augmentation\n",
    "datagen = ImageDataGenerator(horizontal_flip=True, \n",
    "                             width_shift_range=0.125, \n",
    "                             height_shift_range=0.125, \n",
    "                             fill_mode='constant', cval=0.)"
   ]
  },
  {
   "cell_type": "code",
   "execution_count": 16,
   "metadata": {
    "collapsed": true
   },
   "outputs": [],
   "source": [
    "datagen.fit(train_x)"
   ]
  },
  {
   "cell_type": "code",
   "execution_count": 19,
   "metadata": {},
   "outputs": [
    {
     "name": "stdout",
     "output_type": "stream",
     "text": [
      "Epoch 1/10\n",
      "1407/1407 [==============================] - 62s 44ms/step - loss: 2.0022 - acc: 0.3308 - val_loss: 1.9232 - val_acc: 0.3620\n",
      "Epoch 2/10\n",
      "1407/1407 [==============================] - 62s 44ms/step - loss: 1.9088 - acc: 0.3763 - val_loss: 1.8363 - val_acc: 0.4042\n",
      "Epoch 3/10\n",
      "1407/1407 [==============================] - 62s 44ms/step - loss: 1.8479 - acc: 0.4019 - val_loss: 1.7895 - val_acc: 0.4270\n",
      "Epoch 4/10\n",
      "1407/1407 [==============================] - 62s 44ms/step - loss: 1.8010 - acc: 0.4229 - val_loss: 1.7144 - val_acc: 0.4500\n",
      "Epoch 5/10\n",
      "1407/1407 [==============================] - 62s 44ms/step - loss: 1.7681 - acc: 0.4375 - val_loss: 1.6916 - val_acc: 0.4630\n",
      "Epoch 6/10\n",
      "1407/1407 [==============================] - 62s 44ms/step - loss: 1.7322 - acc: 0.4503 - val_loss: 1.6776 - val_acc: 0.4668\n",
      "Epoch 7/10\n",
      "1407/1407 [==============================] - 62s 44ms/step - loss: 1.7109 - acc: 0.4585 - val_loss: 1.6473 - val_acc: 0.4894\n",
      "Epoch 8/10\n",
      "1407/1407 [==============================] - 62s 44ms/step - loss: 1.6876 - acc: 0.4719 - val_loss: 1.6927 - val_acc: 0.4658\n",
      "Epoch 9/10\n",
      "1407/1407 [==============================] - 61s 44ms/step - loss: 1.6679 - acc: 0.4772 - val_loss: 1.5924 - val_acc: 0.5026\n",
      "Epoch 10/10\n",
      "1407/1407 [==============================] - 62s 44ms/step - loss: 1.6502 - acc: 0.4850 - val_loss: 1.5921 - val_acc: 0.5028\n"
     ]
    }
   ],
   "source": [
    "history = model.fit_generator(datagen.flow(train_x, train_y, batch_size=32), steps_per_epoch=1407, epochs=10, \n",
    "                              validation_data=datagen.flow(valid_x, valid_y, batch_size=32), \n",
    "                              validation_steps=157)\n",
    "model.save('cnn_cifar10.h5')"
   ]
  },
  {
   "cell_type": "code",
   "execution_count": 20,
   "metadata": {},
   "outputs": [
    {
     "name": "stdout",
     "output_type": "stream",
     "text": [
      "Epoch 1/5\n",
      "1407/1407 [==============================] - 62s 44ms/step - loss: 2.1951 - acc: 0.1925 - val_loss: 2.0852 - val_acc: 0.2562\n",
      "Epoch 2/5\n",
      "1407/1407 [==============================] - 62s 44ms/step - loss: 2.0170 - acc: 0.2985 - val_loss: 1.9921 - val_acc: 0.2914\n",
      "Epoch 3/5\n",
      "1407/1407 [==============================] - 62s 44ms/step - loss: 1.9223 - acc: 0.3406 - val_loss: 1.8630 - val_acc: 0.3584\n",
      "Epoch 4/5\n",
      "1407/1407 [==============================] - 62s 44ms/step - loss: 1.8559 - acc: 0.3704 - val_loss: 1.8157 - val_acc: 0.3864\n",
      "Epoch 5/5\n",
      "1407/1407 [==============================] - 62s 44ms/step - loss: 1.8071 - acc: 0.3920 - val_loss: 1.7215 - val_acc: 0.4132\n"
     ]
    }
   ],
   "source": [
    "# validation without data augmentation\n",
    "\n",
    "model = build_model()\n",
    "val_datagen = ImageDataGenerator()\n",
    "val_datagen.fit(valid_x)\n",
    "history = model.fit_generator(datagen.flow(train_x, train_y, batch_size=32), steps_per_epoch=1407, epochs=5, \n",
    "                              validation_data=val_datagen.flow(valid_x, valid_y, batch_size=32), \n",
    "                              validation_steps=157)\n",
    "model.save('cnn1_cifar10.h5')"
   ]
  },
  {
   "cell_type": "code",
   "execution_count": 21,
   "metadata": {
    "collapsed": true
   },
   "outputs": [],
   "source": [
    "def build_model_vgg16():\n",
    "    # VGG16 without BN\n",
    "    model = Sequential()\n",
    "    \n",
    "    model.add(Conv2D(64, (3,3), padding='same', activation='relu', kernel_regularizer=keras.regularizers.l2(weight_decay), input_shape=(32,32,3))) \n",
    "    model.add(Conv2D(64, (3,3), padding='same', activation='relu', kernel_regularizer=keras.regularizers.l2(weight_decay))) # 32x32x64\n",
    "    model.add(MaxPooling2D(pool_size=(2,2))) # 16x16x64\n",
    "    \n",
    "    model.add(Dropout(0.5))\n",
    "    \n",
    "    model.add(Conv2D(128, (3,3), padding='same', activation='relu', kernel_regularizer=keras.regularizers.l2(weight_decay)))\n",
    "    model.add(Conv2D(128, (3,3), padding='same', activation='relu', kernel_regularizer=keras.regularizers.l2(weight_decay))) # 16x16x128\n",
    "    model.add(MaxPooling2D(pool_size=(2,2))) # 8x8x128\n",
    "    \n",
    "    model.add(Dropout(0.5))\n",
    "    \n",
    "    model.add(Conv2D(256, (3,3), padding='same', activation='relu', kernel_regularizer=keras.regularizers.l2(weight_decay)))\n",
    "    model.add(Conv2D(256, (3,3), padding='same', activation='relu', kernel_regularizer=keras.regularizers.l2(weight_decay)))\n",
    "    model.add(Conv2D(256, (3,3), padding='same', activation='relu', kernel_regularizer=keras.regularizers.l2(weight_decay))) # 8x8x256\n",
    "    model.add(MaxPooling2D(pool_size=(2,2))) # 4x4x256\n",
    "    \n",
    "    model.add(Dropout(0.5))\n",
    "    \n",
    "    model.add(Conv2D(512, (3,3), padding='same', activation='relu', kernel_regularizer=keras.regularizers.l2(weight_decay)))\n",
    "    model.add(Conv2D(512, (3,3), padding='same', activation='relu', kernel_regularizer=keras.regularizers.l2(weight_decay)))\n",
    "    model.add(Conv2D(512, (3,3), padding='same', activation='relu', kernel_regularizer=keras.regularizers.l2(weight_decay))) # 4x4x512\n",
    "    model.add(MaxPooling2D(pool_size=(2,2))) # 2x2x512\n",
    "    \n",
    "    model.add(Dropout(0.75))\n",
    "    \n",
    "    model.add(Conv2D(512, (3,3), padding='same', activation='relu', kernel_regularizer=keras.regularizers.l2(weight_decay)))\n",
    "    model.add(Conv2D(512, (3,3), padding='same', activation='relu', kernel_regularizer=keras.regularizers.l2(weight_decay)))\n",
    "    model.add(Conv2D(512, (3,3), padding='same', activation='relu', kernel_regularizer=keras.regularizers.l2(weight_decay))) # 2x2x512\n",
    "    model.add(MaxPooling2D(pool_size=(2,2))) # 1x1x512\n",
    "    \n",
    "    model.add(GlobalAveragePooling2D()) # 512\n",
    "    model.add(Dense(512, activation='relu'))\n",
    "    model.add(Dense(10, activation='softmax'))\n",
    "    \n",
    "    model.compile(loss='categorical_crossentropy', optimizer='adam', metrics=['accuracy'])\n",
    "    \n",
    "    return model"
   ]
  },
  {
   "cell_type": "code",
   "execution_count": 22,
   "metadata": {},
   "outputs": [
    {
     "name": "stdout",
     "output_type": "stream",
     "text": [
      "_________________________________________________________________\n",
      "Layer (type)                 Output Shape              Param #   \n",
      "=================================================================\n",
      "conv2d_19 (Conv2D)           (None, 32, 32, 64)        1792      \n",
      "_________________________________________________________________\n",
      "conv2d_20 (Conv2D)           (None, 32, 32, 64)        36928     \n",
      "_________________________________________________________________\n",
      "max_pooling2d_5 (MaxPooling2 (None, 16, 16, 64)        0         \n",
      "_________________________________________________________________\n",
      "dropout_5 (Dropout)          (None, 16, 16, 64)        0         \n",
      "_________________________________________________________________\n",
      "conv2d_21 (Conv2D)           (None, 16, 16, 128)       73856     \n",
      "_________________________________________________________________\n",
      "conv2d_22 (Conv2D)           (None, 16, 16, 128)       147584    \n",
      "_________________________________________________________________\n",
      "max_pooling2d_6 (MaxPooling2 (None, 8, 8, 128)         0         \n",
      "_________________________________________________________________\n",
      "dropout_6 (Dropout)          (None, 8, 8, 128)         0         \n",
      "_________________________________________________________________\n",
      "conv2d_23 (Conv2D)           (None, 8, 8, 256)         295168    \n",
      "_________________________________________________________________\n",
      "conv2d_24 (Conv2D)           (None, 8, 8, 256)         590080    \n",
      "_________________________________________________________________\n",
      "conv2d_25 (Conv2D)           (None, 8, 8, 256)         590080    \n",
      "_________________________________________________________________\n",
      "max_pooling2d_7 (MaxPooling2 (None, 4, 4, 256)         0         \n",
      "_________________________________________________________________\n",
      "dropout_7 (Dropout)          (None, 4, 4, 256)         0         \n",
      "_________________________________________________________________\n",
      "conv2d_26 (Conv2D)           (None, 4, 4, 512)         1180160   \n",
      "_________________________________________________________________\n",
      "conv2d_27 (Conv2D)           (None, 4, 4, 512)         2359808   \n",
      "_________________________________________________________________\n",
      "conv2d_28 (Conv2D)           (None, 4, 4, 512)         2359808   \n",
      "_________________________________________________________________\n",
      "max_pooling2d_8 (MaxPooling2 (None, 2, 2, 512)         0         \n",
      "_________________________________________________________________\n",
      "dropout_8 (Dropout)          (None, 2, 2, 512)         0         \n",
      "_________________________________________________________________\n",
      "conv2d_29 (Conv2D)           (None, 2, 2, 512)         2359808   \n",
      "_________________________________________________________________\n",
      "conv2d_30 (Conv2D)           (None, 2, 2, 512)         2359808   \n",
      "_________________________________________________________________\n",
      "conv2d_31 (Conv2D)           (None, 2, 2, 512)         2359808   \n",
      "_________________________________________________________________\n",
      "max_pooling2d_9 (MaxPooling2 (None, 1, 1, 512)         0         \n",
      "_________________________________________________________________\n",
      "global_average_pooling2d_3 ( (None, 512)               0         \n",
      "_________________________________________________________________\n",
      "dense_1 (Dense)              (None, 512)               262656    \n",
      "_________________________________________________________________\n",
      "dense_2 (Dense)              (None, 10)                5130      \n",
      "=================================================================\n",
      "Total params: 14,982,474\n",
      "Trainable params: 14,982,474\n",
      "Non-trainable params: 0\n",
      "_________________________________________________________________\n",
      "None\n"
     ]
    }
   ],
   "source": [
    "model_vgg = build_model_vgg16()\n",
    "print(model_vgg.summary())"
   ]
  },
  {
   "cell_type": "code",
   "execution_count": 23,
   "metadata": {},
   "outputs": [
    {
     "name": "stdout",
     "output_type": "stream",
     "text": [
      "Epoch 1/5\n",
      "1500/1500 [==============================] - 142s 94ms/step - loss: 2.3193 - acc: 0.0993 - val_loss: 2.3026 - val_acc: 0.1006\n",
      "Epoch 2/5\n",
      "1500/1500 [==============================] - 139s 92ms/step - loss: 2.3028 - acc: 0.0966 - val_loss: 2.3027 - val_acc: 0.0974\n",
      "Epoch 3/5\n",
      "1500/1500 [==============================] - 138s 92ms/step - loss: 2.3028 - acc: 0.0990 - val_loss: 2.3027 - val_acc: 0.1006\n",
      "Epoch 4/5\n",
      "1500/1500 [==============================] - 138s 92ms/step - loss: 2.3028 - acc: 0.0991 - val_loss: 2.3027 - val_acc: 0.0952\n",
      "Epoch 5/5\n",
      "1500/1500 [==============================] - 138s 92ms/step - loss: 2.3028 - acc: 0.0959 - val_loss: 2.3027 - val_acc: 0.1008\n"
     ]
    }
   ],
   "source": [
    "# failed to train\n",
    "\n",
    "history = model_vgg.fit_generator(datagen.flow(train_x, train_y, batch_size=32), steps_per_epoch=1500, epochs=5, \n",
    "                                  validation_data=datagen.flow(valid_x, valid_y, batch_size=32), \n",
    "                                  validation_steps=157)\n",
    "model.save('vgg_cifar10.h5')"
   ]
  },
  {
   "cell_type": "code",
   "execution_count": 24,
   "metadata": {
    "collapsed": true
   },
   "outputs": [],
   "source": [
    "from keras.layers import BatchNormalization, Flatten\n",
    "\n",
    "def build_model_vgg16_1():\n",
    "    # VGG16 with BN and more Dropout -- Better\n",
    "    model = Sequential()\n",
    "    \n",
    "    model.add(Conv2D(64, (3,3), padding='same', activation='relu', kernel_regularizer=keras.regularizers.l2(weight_decay), input_shape=(32,32,3))) \n",
    "    model.add(BatchNormalization())\n",
    "    model.add(Dropout(0.3))\n",
    "    model.add(Conv2D(64, (3,3), padding='same', activation='relu', kernel_regularizer=keras.regularizers.l2(weight_decay))) # 32x32x64\n",
    "    model.add(BatchNormalization())\n",
    "    model.add(MaxPooling2D(pool_size=(2,2))) # 16x16x64\n",
    "    \n",
    "    model.add(Conv2D(128, (3,3), padding='same', activation='relu', kernel_regularizer=keras.regularizers.l2(weight_decay)))\n",
    "    model.add(BatchNormalization())\n",
    "    model.add(Dropout(0.4))\n",
    "    model.add(Conv2D(128, (3,3), padding='same', activation='relu', kernel_regularizer=keras.regularizers.l2(weight_decay))) # 16x16x128\n",
    "    model.add(BatchNormalization())\n",
    "    model.add(MaxPooling2D(pool_size=(2,2))) # 8x8x128\n",
    "    \n",
    "    model.add(Conv2D(256, (3,3), padding='same', activation='relu', kernel_regularizer=keras.regularizers.l2(weight_decay)))\n",
    "    model.add(BatchNormalization())\n",
    "    model.add(Dropout(0.4))\n",
    "    model.add(Conv2D(256, (3,3), padding='same', activation='relu', kernel_regularizer=keras.regularizers.l2(weight_decay)))\n",
    "    model.add(BatchNormalization())\n",
    "    model.add(Dropout(0.4))\n",
    "    model.add(Conv2D(256, (3,3), padding='same', activation='relu', kernel_regularizer=keras.regularizers.l2(weight_decay))) # 8x8x256\n",
    "    model.add(BatchNormalization())\n",
    "    model.add(MaxPooling2D(pool_size=(2,2))) # 4x4x256\n",
    "    \n",
    "    model.add(Conv2D(512, (3,3), padding='same', activation='relu', kernel_regularizer=keras.regularizers.l2(weight_decay)))\n",
    "    model.add(BatchNormalization())\n",
    "    model.add(Dropout(0.4))\n",
    "    model.add(Conv2D(512, (3,3), padding='same', activation='relu', kernel_regularizer=keras.regularizers.l2(weight_decay)))\n",
    "    model.add(BatchNormalization())\n",
    "    model.add(Dropout(0.4))\n",
    "    model.add(Conv2D(512, (3,3), padding='same', activation='relu', kernel_regularizer=keras.regularizers.l2(weight_decay))) # 4x4x512\n",
    "    model.add(BatchNormalization())\n",
    "    model.add(MaxPooling2D(pool_size=(2,2))) # 2x2x512\n",
    "    \n",
    "    model.add(Conv2D(512, (3,3), padding='same', activation='relu', kernel_regularizer=keras.regularizers.l2(weight_decay)))\n",
    "    model.add(BatchNormalization())\n",
    "    model.add(Dropout(0.4))\n",
    "    model.add(Conv2D(512, (3,3), padding='same', activation='relu', kernel_regularizer=keras.regularizers.l2(weight_decay)))\n",
    "    model.add(BatchNormalization())\n",
    "    model.add(Dropout(0.4))\n",
    "    model.add(Conv2D(512, (3,3), padding='same', activation='relu', kernel_regularizer=keras.regularizers.l2(weight_decay))) # 2x2x512\n",
    "    model.add(BatchNormalization())\n",
    "    model.add(MaxPooling2D(pool_size=(2,2))) # 1x1x512\n",
    "    \n",
    "    model.add(Flatten()) # 512\n",
    "    model.add(Dense(512, activation='relu', kernel_regularizer=keras.regularizers.l2(weight_decay)))\n",
    "    model.add(BatchNormalization())\n",
    "    model.add(Dropout(0.5))\n",
    "    model.add(Dense(10, activation='softmax'))\n",
    "    \n",
    "    model.compile(loss='categorical_crossentropy', optimizer='adam', metrics=['accuracy'])\n",
    "    \n",
    "    return model"
   ]
  },
  {
   "cell_type": "code",
   "execution_count": 25,
   "metadata": {},
   "outputs": [
    {
     "name": "stdout",
     "output_type": "stream",
     "text": [
      "_________________________________________________________________\n",
      "Layer (type)                 Output Shape              Param #   \n",
      "=================================================================\n",
      "conv2d_32 (Conv2D)           (None, 32, 32, 64)        1792      \n",
      "_________________________________________________________________\n",
      "batch_normalization_1 (Batch (None, 32, 32, 64)        256       \n",
      "_________________________________________________________________\n",
      "dropout_9 (Dropout)          (None, 32, 32, 64)        0         \n",
      "_________________________________________________________________\n",
      "conv2d_33 (Conv2D)           (None, 32, 32, 64)        36928     \n",
      "_________________________________________________________________\n",
      "batch_normalization_2 (Batch (None, 32, 32, 64)        256       \n",
      "_________________________________________________________________\n",
      "max_pooling2d_10 (MaxPooling (None, 16, 16, 64)        0         \n",
      "_________________________________________________________________\n",
      "conv2d_34 (Conv2D)           (None, 16, 16, 128)       73856     \n",
      "_________________________________________________________________\n",
      "batch_normalization_3 (Batch (None, 16, 16, 128)       512       \n",
      "_________________________________________________________________\n",
      "dropout_10 (Dropout)         (None, 16, 16, 128)       0         \n",
      "_________________________________________________________________\n",
      "conv2d_35 (Conv2D)           (None, 16, 16, 128)       147584    \n",
      "_________________________________________________________________\n",
      "batch_normalization_4 (Batch (None, 16, 16, 128)       512       \n",
      "_________________________________________________________________\n",
      "max_pooling2d_11 (MaxPooling (None, 8, 8, 128)         0         \n",
      "_________________________________________________________________\n",
      "conv2d_36 (Conv2D)           (None, 8, 8, 256)         295168    \n",
      "_________________________________________________________________\n",
      "batch_normalization_5 (Batch (None, 8, 8, 256)         1024      \n",
      "_________________________________________________________________\n",
      "dropout_11 (Dropout)         (None, 8, 8, 256)         0         \n",
      "_________________________________________________________________\n",
      "conv2d_37 (Conv2D)           (None, 8, 8, 256)         590080    \n",
      "_________________________________________________________________\n",
      "batch_normalization_6 (Batch (None, 8, 8, 256)         1024      \n",
      "_________________________________________________________________\n",
      "dropout_12 (Dropout)         (None, 8, 8, 256)         0         \n",
      "_________________________________________________________________\n",
      "conv2d_38 (Conv2D)           (None, 8, 8, 256)         590080    \n",
      "_________________________________________________________________\n",
      "batch_normalization_7 (Batch (None, 8, 8, 256)         1024      \n",
      "_________________________________________________________________\n",
      "max_pooling2d_12 (MaxPooling (None, 4, 4, 256)         0         \n",
      "_________________________________________________________________\n",
      "conv2d_39 (Conv2D)           (None, 4, 4, 512)         1180160   \n",
      "_________________________________________________________________\n",
      "batch_normalization_8 (Batch (None, 4, 4, 512)         2048      \n",
      "_________________________________________________________________\n",
      "dropout_13 (Dropout)         (None, 4, 4, 512)         0         \n",
      "_________________________________________________________________\n",
      "conv2d_40 (Conv2D)           (None, 4, 4, 512)         2359808   \n",
      "_________________________________________________________________\n",
      "batch_normalization_9 (Batch (None, 4, 4, 512)         2048      \n",
      "_________________________________________________________________\n",
      "dropout_14 (Dropout)         (None, 4, 4, 512)         0         \n",
      "_________________________________________________________________\n",
      "conv2d_41 (Conv2D)           (None, 4, 4, 512)         2359808   \n",
      "_________________________________________________________________\n",
      "batch_normalization_10 (Batc (None, 4, 4, 512)         2048      \n",
      "_________________________________________________________________\n",
      "max_pooling2d_13 (MaxPooling (None, 2, 2, 512)         0         \n",
      "_________________________________________________________________\n",
      "conv2d_42 (Conv2D)           (None, 2, 2, 512)         2359808   \n",
      "_________________________________________________________________\n",
      "batch_normalization_11 (Batc (None, 2, 2, 512)         2048      \n",
      "_________________________________________________________________\n",
      "dropout_15 (Dropout)         (None, 2, 2, 512)         0         \n",
      "_________________________________________________________________\n",
      "conv2d_43 (Conv2D)           (None, 2, 2, 512)         2359808   \n",
      "_________________________________________________________________\n",
      "batch_normalization_12 (Batc (None, 2, 2, 512)         2048      \n",
      "_________________________________________________________________\n",
      "dropout_16 (Dropout)         (None, 2, 2, 512)         0         \n",
      "_________________________________________________________________\n",
      "conv2d_44 (Conv2D)           (None, 2, 2, 512)         2359808   \n",
      "_________________________________________________________________\n",
      "batch_normalization_13 (Batc (None, 2, 2, 512)         2048      \n",
      "_________________________________________________________________\n",
      "max_pooling2d_14 (MaxPooling (None, 1, 1, 512)         0         \n",
      "_________________________________________________________________\n",
      "flatten_1 (Flatten)          (None, 512)               0         \n",
      "_________________________________________________________________\n",
      "dense_3 (Dense)              (None, 512)               262656    \n",
      "_________________________________________________________________\n",
      "batch_normalization_14 (Batc (None, 512)               2048      \n",
      "_________________________________________________________________\n",
      "dropout_17 (Dropout)         (None, 512)               0         \n",
      "_________________________________________________________________\n",
      "dense_4 (Dense)              (None, 10)                5130      \n",
      "=================================================================\n",
      "Total params: 15,001,418\n",
      "Trainable params: 14,991,946\n",
      "Non-trainable params: 9,472\n",
      "_________________________________________________________________\n",
      "None\n"
     ]
    }
   ],
   "source": [
    "model_vgg1 = build_model_vgg16_1()\n",
    "print(model_vgg1.summary())"
   ]
  },
  {
   "cell_type": "code",
   "execution_count": 26,
   "metadata": {},
   "outputs": [
    {
     "name": "stdout",
     "output_type": "stream",
     "text": [
      "Epoch 1/5\n",
      "1500/1500 [==============================] - 192s 128ms/step - loss: 2.4336 - acc: 0.3032 - val_loss: 2.1793 - val_acc: 0.3712\n",
      "Epoch 2/5\n",
      "1500/1500 [==============================] - 188s 125ms/step - loss: 1.9284 - acc: 0.4567 - val_loss: 1.7968 - val_acc: 0.5280\n",
      "Epoch 3/5\n",
      "1500/1500 [==============================] - 188s 125ms/step - loss: 1.7012 - acc: 0.5488 - val_loss: 1.6032 - val_acc: 0.5916\n",
      "Epoch 4/5\n",
      "1500/1500 [==============================] - 188s 125ms/step - loss: 1.5463 - acc: 0.6094 - val_loss: 1.7229 - val_acc: 0.5832\n",
      "Epoch 5/5\n",
      "1500/1500 [==============================] - 188s 125ms/step - loss: 1.5171 - acc: 0.6473 - val_loss: 1.5653 - val_acc: 0.6302\n"
     ]
    }
   ],
   "source": [
    "history = model_vgg1.fit_generator(datagen.flow(train_x, train_y, batch_size=32), steps_per_epoch=1500, epochs=5, \n",
    "                                   validation_data=datagen.flow(valid_x, valid_y, batch_size=32), \n",
    "                                   validation_steps=157)\n",
    "model.save('vgg_cifar10_1.h5')"
   ]
  },
  {
   "cell_type": "code",
   "execution_count": null,
   "metadata": {
    "collapsed": true
   },
   "outputs": [],
   "source": []
  }
 ],
 "metadata": {
  "kernelspec": {
   "display_name": "Python 3",
   "language": "python",
   "name": "python3"
  },
  "language_info": {
   "codemirror_mode": {
    "name": "ipython",
    "version": 3
   },
   "file_extension": ".py",
   "mimetype": "text/x-python",
   "name": "python",
   "nbconvert_exporter": "python",
   "pygments_lexer": "ipython3",
   "version": "3.6.1"
  }
 },
 "nbformat": 4,
 "nbformat_minor": 2
}
